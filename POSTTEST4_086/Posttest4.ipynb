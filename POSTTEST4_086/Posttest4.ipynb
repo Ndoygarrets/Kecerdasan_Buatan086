{
  "nbformat": 4,
  "nbformat_minor": 0,
  "metadata": {
    "colab": {
      "provenance": []
    },
    "kernelspec": {
      "name": "python3",
      "display_name": "Python 3"
    },
    "language_info": {
      "name": "python"
    }
  },
  "cells": [
    {
      "cell_type": "code",
      "execution_count": null,
      "metadata": {
        "id": "P4WUSS7ACe-f"
      },
      "outputs": [],
      "source": []
    },
    {
      "cell_type": "markdown",
      "metadata": {
        "id": "5c7095b9"
      },
      "source": [
        "# Task\n",
        "Analyze the data in \"/content/synthetic_coffee_health_10000.csv\" using supervised learning methods. If the target variable is categorical, use Support Vector Classifier and at least one other classification method (Random Forest, KNN, Naive Bayes, etc.). If the target variable is numerical, use Linear Regression and at least one other regression method (Support Vector Regressor, etc.). Evaluate classification models using Confusion Matrix and Classification Report, and regression models using MAE, MSE, RMSE, and R2-Score. Provide explanations for all evaluation metrics. Create informative plots to visualize the prediction results, including plotting predicted vs. actual target values for regression. Include all explanations and analysis in markdown cells in Indonesian."
      ]
    },
    {
      "cell_type": "markdown",
      "metadata": {
        "id": "8bdabde2"
      },
      "source": [
        "## Memuat data\n",
        "\n",
        "### Subtask:\n",
        "Muat dataset dari `/content/synthetic_coffee_health_10000.csv` ke dalam pandas DataFrame.\n"
      ]
    },
    {
      "cell_type": "markdown",
      "metadata": {
        "id": "2c1af252"
      },
      "source": [
        "**Reasoning**:\n",
        "Impor library pandas, muat data dari file CSV ke dalam DataFrame, dan tampilkan beberapa baris pertama untuk verifikasi.\n",
        "\n"
      ]
    },
    {
      "cell_type": "code",
      "metadata": {
        "colab": {
          "base_uri": "https://localhost:8080/",
          "height": 226
        },
        "id": "68908321",
        "outputId": "39aa2b5c-eb30-4dc7-8898-f8bd77e6a7bc"
      },
      "source": [
        "import pandas as pd\n",
        "\n",
        "df = pd.read_csv('/content/synthetic_coffee_health_10000.csv')\n",
        "display(df.head())"
      ],
      "execution_count": 1,
      "outputs": [
        {
          "output_type": "display_data",
          "data": {
            "text/plain": [
              "   ID  Age  Gender  Country  Coffee_Intake  Caffeine_mg  Sleep_Hours  \\\n",
              "0   1   40    Male  Germany            3.5        328.1          7.5   \n",
              "1   2   33    Male  Germany            1.0         94.1          6.2   \n",
              "2   3   42    Male   Brazil            5.3        503.7          5.9   \n",
              "3   4   53    Male  Germany            2.6        249.2          7.3   \n",
              "4   5   32  Female    Spain            3.1        298.0          5.3   \n",
              "\n",
              "  Sleep_Quality   BMI  Heart_Rate Stress_Level  Physical_Activity_Hours  \\\n",
              "0          Good  24.9          78          Low                     14.5   \n",
              "1          Good  20.0          67          Low                     11.0   \n",
              "2          Fair  22.7          59       Medium                     11.2   \n",
              "3          Good  24.7          71          Low                      6.6   \n",
              "4          Fair  24.1          76       Medium                      8.5   \n",
              "\n",
              "  Health_Issues Occupation  Smoking  Alcohol_Consumption  \n",
              "0           NaN      Other        0                    0  \n",
              "1           NaN    Service        0                    0  \n",
              "2          Mild     Office        0                    0  \n",
              "3          Mild      Other        0                    0  \n",
              "4          Mild    Student        0                    1  "
            ],
            "text/html": [
              "\n",
              "  <div id=\"df-398dabf7-b366-44b8-a677-6174744bf0b7\" class=\"colab-df-container\">\n",
              "    <div>\n",
              "<style scoped>\n",
              "    .dataframe tbody tr th:only-of-type {\n",
              "        vertical-align: middle;\n",
              "    }\n",
              "\n",
              "    .dataframe tbody tr th {\n",
              "        vertical-align: top;\n",
              "    }\n",
              "\n",
              "    .dataframe thead th {\n",
              "        text-align: right;\n",
              "    }\n",
              "</style>\n",
              "<table border=\"1\" class=\"dataframe\">\n",
              "  <thead>\n",
              "    <tr style=\"text-align: right;\">\n",
              "      <th></th>\n",
              "      <th>ID</th>\n",
              "      <th>Age</th>\n",
              "      <th>Gender</th>\n",
              "      <th>Country</th>\n",
              "      <th>Coffee_Intake</th>\n",
              "      <th>Caffeine_mg</th>\n",
              "      <th>Sleep_Hours</th>\n",
              "      <th>Sleep_Quality</th>\n",
              "      <th>BMI</th>\n",
              "      <th>Heart_Rate</th>\n",
              "      <th>Stress_Level</th>\n",
              "      <th>Physical_Activity_Hours</th>\n",
              "      <th>Health_Issues</th>\n",
              "      <th>Occupation</th>\n",
              "      <th>Smoking</th>\n",
              "      <th>Alcohol_Consumption</th>\n",
              "    </tr>\n",
              "  </thead>\n",
              "  <tbody>\n",
              "    <tr>\n",
              "      <th>0</th>\n",
              "      <td>1</td>\n",
              "      <td>40</td>\n",
              "      <td>Male</td>\n",
              "      <td>Germany</td>\n",
              "      <td>3.5</td>\n",
              "      <td>328.1</td>\n",
              "      <td>7.5</td>\n",
              "      <td>Good</td>\n",
              "      <td>24.9</td>\n",
              "      <td>78</td>\n",
              "      <td>Low</td>\n",
              "      <td>14.5</td>\n",
              "      <td>NaN</td>\n",
              "      <td>Other</td>\n",
              "      <td>0</td>\n",
              "      <td>0</td>\n",
              "    </tr>\n",
              "    <tr>\n",
              "      <th>1</th>\n",
              "      <td>2</td>\n",
              "      <td>33</td>\n",
              "      <td>Male</td>\n",
              "      <td>Germany</td>\n",
              "      <td>1.0</td>\n",
              "      <td>94.1</td>\n",
              "      <td>6.2</td>\n",
              "      <td>Good</td>\n",
              "      <td>20.0</td>\n",
              "      <td>67</td>\n",
              "      <td>Low</td>\n",
              "      <td>11.0</td>\n",
              "      <td>NaN</td>\n",
              "      <td>Service</td>\n",
              "      <td>0</td>\n",
              "      <td>0</td>\n",
              "    </tr>\n",
              "    <tr>\n",
              "      <th>2</th>\n",
              "      <td>3</td>\n",
              "      <td>42</td>\n",
              "      <td>Male</td>\n",
              "      <td>Brazil</td>\n",
              "      <td>5.3</td>\n",
              "      <td>503.7</td>\n",
              "      <td>5.9</td>\n",
              "      <td>Fair</td>\n",
              "      <td>22.7</td>\n",
              "      <td>59</td>\n",
              "      <td>Medium</td>\n",
              "      <td>11.2</td>\n",
              "      <td>Mild</td>\n",
              "      <td>Office</td>\n",
              "      <td>0</td>\n",
              "      <td>0</td>\n",
              "    </tr>\n",
              "    <tr>\n",
              "      <th>3</th>\n",
              "      <td>4</td>\n",
              "      <td>53</td>\n",
              "      <td>Male</td>\n",
              "      <td>Germany</td>\n",
              "      <td>2.6</td>\n",
              "      <td>249.2</td>\n",
              "      <td>7.3</td>\n",
              "      <td>Good</td>\n",
              "      <td>24.7</td>\n",
              "      <td>71</td>\n",
              "      <td>Low</td>\n",
              "      <td>6.6</td>\n",
              "      <td>Mild</td>\n",
              "      <td>Other</td>\n",
              "      <td>0</td>\n",
              "      <td>0</td>\n",
              "    </tr>\n",
              "    <tr>\n",
              "      <th>4</th>\n",
              "      <td>5</td>\n",
              "      <td>32</td>\n",
              "      <td>Female</td>\n",
              "      <td>Spain</td>\n",
              "      <td>3.1</td>\n",
              "      <td>298.0</td>\n",
              "      <td>5.3</td>\n",
              "      <td>Fair</td>\n",
              "      <td>24.1</td>\n",
              "      <td>76</td>\n",
              "      <td>Medium</td>\n",
              "      <td>8.5</td>\n",
              "      <td>Mild</td>\n",
              "      <td>Student</td>\n",
              "      <td>0</td>\n",
              "      <td>1</td>\n",
              "    </tr>\n",
              "  </tbody>\n",
              "</table>\n",
              "</div>\n",
              "    <div class=\"colab-df-buttons\">\n",
              "\n",
              "  <div class=\"colab-df-container\">\n",
              "    <button class=\"colab-df-convert\" onclick=\"convertToInteractive('df-398dabf7-b366-44b8-a677-6174744bf0b7')\"\n",
              "            title=\"Convert this dataframe to an interactive table.\"\n",
              "            style=\"display:none;\">\n",
              "\n",
              "  <svg xmlns=\"http://www.w3.org/2000/svg\" height=\"24px\" viewBox=\"0 -960 960 960\">\n",
              "    <path d=\"M120-120v-720h720v720H120Zm60-500h600v-160H180v160Zm220 220h160v-160H400v160Zm0 220h160v-160H400v160ZM180-400h160v-160H180v160Zm440 0h160v-160H620v160ZM180-180h160v-160H180v160Zm440 0h160v-160H620v160Z\"/>\n",
              "  </svg>\n",
              "    </button>\n",
              "\n",
              "  <style>\n",
              "    .colab-df-container {\n",
              "      display:flex;\n",
              "      gap: 12px;\n",
              "    }\n",
              "\n",
              "    .colab-df-convert {\n",
              "      background-color: #E8F0FE;\n",
              "      border: none;\n",
              "      border-radius: 50%;\n",
              "      cursor: pointer;\n",
              "      display: none;\n",
              "      fill: #1967D2;\n",
              "      height: 32px;\n",
              "      padding: 0 0 0 0;\n",
              "      width: 32px;\n",
              "    }\n",
              "\n",
              "    .colab-df-convert:hover {\n",
              "      background-color: #E2EBFA;\n",
              "      box-shadow: 0px 1px 2px rgba(60, 64, 67, 0.3), 0px 1px 3px 1px rgba(60, 64, 67, 0.15);\n",
              "      fill: #174EA6;\n",
              "    }\n",
              "\n",
              "    .colab-df-buttons div {\n",
              "      margin-bottom: 4px;\n",
              "    }\n",
              "\n",
              "    [theme=dark] .colab-df-convert {\n",
              "      background-color: #3B4455;\n",
              "      fill: #D2E3FC;\n",
              "    }\n",
              "\n",
              "    [theme=dark] .colab-df-convert:hover {\n",
              "      background-color: #434B5C;\n",
              "      box-shadow: 0px 1px 3px 1px rgba(0, 0, 0, 0.15);\n",
              "      filter: drop-shadow(0px 1px 2px rgba(0, 0, 0, 0.3));\n",
              "      fill: #FFFFFF;\n",
              "    }\n",
              "  </style>\n",
              "\n",
              "    <script>\n",
              "      const buttonEl =\n",
              "        document.querySelector('#df-398dabf7-b366-44b8-a677-6174744bf0b7 button.colab-df-convert');\n",
              "      buttonEl.style.display =\n",
              "        google.colab.kernel.accessAllowed ? 'block' : 'none';\n",
              "\n",
              "      async function convertToInteractive(key) {\n",
              "        const element = document.querySelector('#df-398dabf7-b366-44b8-a677-6174744bf0b7');\n",
              "        const dataTable =\n",
              "          await google.colab.kernel.invokeFunction('convertToInteractive',\n",
              "                                                    [key], {});\n",
              "        if (!dataTable) return;\n",
              "\n",
              "        const docLinkHtml = 'Like what you see? Visit the ' +\n",
              "          '<a target=\"_blank\" href=https://colab.research.google.com/notebooks/data_table.ipynb>data table notebook</a>'\n",
              "          + ' to learn more about interactive tables.';\n",
              "        element.innerHTML = '';\n",
              "        dataTable['output_type'] = 'display_data';\n",
              "        await google.colab.output.renderOutput(dataTable, element);\n",
              "        const docLink = document.createElement('div');\n",
              "        docLink.innerHTML = docLinkHtml;\n",
              "        element.appendChild(docLink);\n",
              "      }\n",
              "    </script>\n",
              "  </div>\n",
              "\n",
              "\n",
              "    <div id=\"df-6f9066b9-3ff3-43a0-af26-fd96825875ee\">\n",
              "      <button class=\"colab-df-quickchart\" onclick=\"quickchart('df-6f9066b9-3ff3-43a0-af26-fd96825875ee')\"\n",
              "                title=\"Suggest charts\"\n",
              "                style=\"display:none;\">\n",
              "\n",
              "<svg xmlns=\"http://www.w3.org/2000/svg\" height=\"24px\"viewBox=\"0 0 24 24\"\n",
              "     width=\"24px\">\n",
              "    <g>\n",
              "        <path d=\"M19 3H5c-1.1 0-2 .9-2 2v14c0 1.1.9 2 2 2h14c1.1 0 2-.9 2-2V5c0-1.1-.9-2-2-2zM9 17H7v-7h2v7zm4 0h-2V7h2v10zm4 0h-2v-4h2v4z\"/>\n",
              "    </g>\n",
              "</svg>\n",
              "      </button>\n",
              "\n",
              "<style>\n",
              "  .colab-df-quickchart {\n",
              "      --bg-color: #E8F0FE;\n",
              "      --fill-color: #1967D2;\n",
              "      --hover-bg-color: #E2EBFA;\n",
              "      --hover-fill-color: #174EA6;\n",
              "      --disabled-fill-color: #AAA;\n",
              "      --disabled-bg-color: #DDD;\n",
              "  }\n",
              "\n",
              "  [theme=dark] .colab-df-quickchart {\n",
              "      --bg-color: #3B4455;\n",
              "      --fill-color: #D2E3FC;\n",
              "      --hover-bg-color: #434B5C;\n",
              "      --hover-fill-color: #FFFFFF;\n",
              "      --disabled-bg-color: #3B4455;\n",
              "      --disabled-fill-color: #666;\n",
              "  }\n",
              "\n",
              "  .colab-df-quickchart {\n",
              "    background-color: var(--bg-color);\n",
              "    border: none;\n",
              "    border-radius: 50%;\n",
              "    cursor: pointer;\n",
              "    display: none;\n",
              "    fill: var(--fill-color);\n",
              "    height: 32px;\n",
              "    padding: 0;\n",
              "    width: 32px;\n",
              "  }\n",
              "\n",
              "  .colab-df-quickchart:hover {\n",
              "    background-color: var(--hover-bg-color);\n",
              "    box-shadow: 0 1px 2px rgba(60, 64, 67, 0.3), 0 1px 3px 1px rgba(60, 64, 67, 0.15);\n",
              "    fill: var(--button-hover-fill-color);\n",
              "  }\n",
              "\n",
              "  .colab-df-quickchart-complete:disabled,\n",
              "  .colab-df-quickchart-complete:disabled:hover {\n",
              "    background-color: var(--disabled-bg-color);\n",
              "    fill: var(--disabled-fill-color);\n",
              "    box-shadow: none;\n",
              "  }\n",
              "\n",
              "  .colab-df-spinner {\n",
              "    border: 2px solid var(--fill-color);\n",
              "    border-color: transparent;\n",
              "    border-bottom-color: var(--fill-color);\n",
              "    animation:\n",
              "      spin 1s steps(1) infinite;\n",
              "  }\n",
              "\n",
              "  @keyframes spin {\n",
              "    0% {\n",
              "      border-color: transparent;\n",
              "      border-bottom-color: var(--fill-color);\n",
              "      border-left-color: var(--fill-color);\n",
              "    }\n",
              "    20% {\n",
              "      border-color: transparent;\n",
              "      border-left-color: var(--fill-color);\n",
              "      border-top-color: var(--fill-color);\n",
              "    }\n",
              "    30% {\n",
              "      border-color: transparent;\n",
              "      border-left-color: var(--fill-color);\n",
              "      border-top-color: var(--fill-color);\n",
              "      border-right-color: var(--fill-color);\n",
              "    }\n",
              "    40% {\n",
              "      border-color: transparent;\n",
              "      border-right-color: var(--fill-color);\n",
              "      border-top-color: var(--fill-color);\n",
              "    }\n",
              "    60% {\n",
              "      border-color: transparent;\n",
              "      border-right-color: var(--fill-color);\n",
              "    }\n",
              "    80% {\n",
              "      border-color: transparent;\n",
              "      border-right-color: var(--fill-color);\n",
              "      border-bottom-color: var(--fill-color);\n",
              "    }\n",
              "    90% {\n",
              "      border-color: transparent;\n",
              "      border-bottom-color: var(--fill-color);\n",
              "    }\n",
              "  }\n",
              "</style>\n",
              "\n",
              "      <script>\n",
              "        async function quickchart(key) {\n",
              "          const quickchartButtonEl =\n",
              "            document.querySelector('#' + key + ' button');\n",
              "          quickchartButtonEl.disabled = true;  // To prevent multiple clicks.\n",
              "          quickchartButtonEl.classList.add('colab-df-spinner');\n",
              "          try {\n",
              "            const charts = await google.colab.kernel.invokeFunction(\n",
              "                'suggestCharts', [key], {});\n",
              "          } catch (error) {\n",
              "            console.error('Error during call to suggestCharts:', error);\n",
              "          }\n",
              "          quickchartButtonEl.classList.remove('colab-df-spinner');\n",
              "          quickchartButtonEl.classList.add('colab-df-quickchart-complete');\n",
              "        }\n",
              "        (() => {\n",
              "          let quickchartButtonEl =\n",
              "            document.querySelector('#df-6f9066b9-3ff3-43a0-af26-fd96825875ee button');\n",
              "          quickchartButtonEl.style.display =\n",
              "            google.colab.kernel.accessAllowed ? 'block' : 'none';\n",
              "        })();\n",
              "      </script>\n",
              "    </div>\n",
              "\n",
              "    </div>\n",
              "  </div>\n"
            ],
            "application/vnd.google.colaboratory.intrinsic+json": {
              "type": "dataframe",
              "summary": "{\n  \"name\": \"display(df\",\n  \"rows\": 5,\n  \"fields\": [\n    {\n      \"column\": \"ID\",\n      \"properties\": {\n        \"dtype\": \"number\",\n        \"std\": 1,\n        \"min\": 1,\n        \"max\": 5,\n        \"num_unique_values\": 5,\n        \"samples\": [\n          2,\n          5,\n          3\n        ],\n        \"semantic_type\": \"\",\n        \"description\": \"\"\n      }\n    },\n    {\n      \"column\": \"Age\",\n      \"properties\": {\n        \"dtype\": \"number\",\n        \"std\": 8,\n        \"min\": 32,\n        \"max\": 53,\n        \"num_unique_values\": 5,\n        \"samples\": [\n          33,\n          32,\n          42\n        ],\n        \"semantic_type\": \"\",\n        \"description\": \"\"\n      }\n    },\n    {\n      \"column\": \"Gender\",\n      \"properties\": {\n        \"dtype\": \"category\",\n        \"num_unique_values\": 2,\n        \"samples\": [\n          \"Female\",\n          \"Male\"\n        ],\n        \"semantic_type\": \"\",\n        \"description\": \"\"\n      }\n    },\n    {\n      \"column\": \"Country\",\n      \"properties\": {\n        \"dtype\": \"string\",\n        \"num_unique_values\": 3,\n        \"samples\": [\n          \"Germany\",\n          \"Brazil\"\n        ],\n        \"semantic_type\": \"\",\n        \"description\": \"\"\n      }\n    },\n    {\n      \"column\": \"Coffee_Intake\",\n      \"properties\": {\n        \"dtype\": \"number\",\n        \"std\": 1.5540270267920053,\n        \"min\": 1.0,\n        \"max\": 5.3,\n        \"num_unique_values\": 5,\n        \"samples\": [\n          1.0,\n          3.1\n        ],\n        \"semantic_type\": \"\",\n        \"description\": \"\"\n      }\n    },\n    {\n      \"column\": \"Caffeine_mg\",\n      \"properties\": {\n        \"dtype\": \"number\",\n        \"std\": 147.5788162305146,\n        \"min\": 94.1,\n        \"max\": 503.7,\n        \"num_unique_values\": 5,\n        \"samples\": [\n          94.1,\n          298.0\n        ],\n        \"semantic_type\": \"\",\n        \"description\": \"\"\n      }\n    },\n    {\n      \"column\": \"Sleep_Hours\",\n      \"properties\": {\n        \"dtype\": \"number\",\n        \"std\": 0.9370165420097982,\n        \"min\": 5.3,\n        \"max\": 7.5,\n        \"num_unique_values\": 5,\n        \"samples\": [\n          6.2,\n          5.3\n        ],\n        \"semantic_type\": \"\",\n        \"description\": \"\"\n      }\n    },\n    {\n      \"column\": \"Sleep_Quality\",\n      \"properties\": {\n        \"dtype\": \"category\",\n        \"num_unique_values\": 2,\n        \"samples\": [\n          \"Fair\",\n          \"Good\"\n        ],\n        \"semantic_type\": \"\",\n        \"description\": \"\"\n      }\n    },\n    {\n      \"column\": \"BMI\",\n      \"properties\": {\n        \"dtype\": \"number\",\n        \"std\": 2.025339477717254,\n        \"min\": 20.0,\n        \"max\": 24.9,\n        \"num_unique_values\": 5,\n        \"samples\": [\n          20.0,\n          24.1\n        ],\n        \"semantic_type\": \"\",\n        \"description\": \"\"\n      }\n    },\n    {\n      \"column\": \"Heart_Rate\",\n      \"properties\": {\n        \"dtype\": \"number\",\n        \"std\": 7,\n        \"min\": 59,\n        \"max\": 78,\n        \"num_unique_values\": 5,\n        \"samples\": [\n          67,\n          76\n        ],\n        \"semantic_type\": \"\",\n        \"description\": \"\"\n      }\n    },\n    {\n      \"column\": \"Stress_Level\",\n      \"properties\": {\n        \"dtype\": \"category\",\n        \"num_unique_values\": 2,\n        \"samples\": [\n          \"Medium\",\n          \"Low\"\n        ],\n        \"semantic_type\": \"\",\n        \"description\": \"\"\n      }\n    },\n    {\n      \"column\": \"Physical_Activity_Hours\",\n      \"properties\": {\n        \"dtype\": \"number\",\n        \"std\": 2.993826982308764,\n        \"min\": 6.6,\n        \"max\": 14.5,\n        \"num_unique_values\": 5,\n        \"samples\": [\n          11.0,\n          8.5\n        ],\n        \"semantic_type\": \"\",\n        \"description\": \"\"\n      }\n    },\n    {\n      \"column\": \"Health_Issues\",\n      \"properties\": {\n        \"dtype\": \"category\",\n        \"num_unique_values\": 1,\n        \"samples\": [\n          \"Mild\"\n        ],\n        \"semantic_type\": \"\",\n        \"description\": \"\"\n      }\n    },\n    {\n      \"column\": \"Occupation\",\n      \"properties\": {\n        \"dtype\": \"string\",\n        \"num_unique_values\": 4,\n        \"samples\": [\n          \"Service\"\n        ],\n        \"semantic_type\": \"\",\n        \"description\": \"\"\n      }\n    },\n    {\n      \"column\": \"Smoking\",\n      \"properties\": {\n        \"dtype\": \"number\",\n        \"std\": 0,\n        \"min\": 0,\n        \"max\": 0,\n        \"num_unique_values\": 1,\n        \"samples\": [\n          0\n        ],\n        \"semantic_type\": \"\",\n        \"description\": \"\"\n      }\n    },\n    {\n      \"column\": \"Alcohol_Consumption\",\n      \"properties\": {\n        \"dtype\": \"number\",\n        \"std\": 0,\n        \"min\": 0,\n        \"max\": 1,\n        \"num_unique_values\": 2,\n        \"samples\": [\n          1\n        ],\n        \"semantic_type\": \"\",\n        \"description\": \"\"\n      }\n    }\n  ]\n}"
            }
          },
          "metadata": {}
        }
      ]
    },
    {
      "cell_type": "markdown",
      "metadata": {
        "id": "b5835068"
      },
      "source": [
        "## Eksplorasi data awal\n",
        "\n",
        "### Subtask:\n",
        "Lakukan eksplorasi data awal untuk memahami struktur data, tipe kolom, dan distribusi target variabel. Tentukan apakah ini tugas klasifikasi (target kategorikal) atau regresi (target numerik).\n"
      ]
    },
    {
      "cell_type": "markdown",
      "metadata": {
        "id": "52e87f74"
      },
      "source": [
        "**Reasoning**:\n",
        "Lakukan eksplorasi data awal untuk memahami struktur data, tipe kolom, dan distribusi target variabel. Tampilkan informasi ringkasan, statistik deskriptif, dan periksa distribusi kolom target potensial.\n",
        "\n"
      ]
    },
    {
      "cell_type": "code",
      "metadata": {
        "colab": {
          "base_uri": "https://localhost:8080/",
          "height": 840
        },
        "id": "78a45fc6",
        "outputId": "d28f3e17-e7e2-4fcb-ae30-5f4777a65a18"
      },
      "source": [
        "df.info()\n",
        "display(df.describe())\n",
        "print(\"\\nValue counts for 'Health_Issues':\")\n",
        "print(df['Health_Issues'].value_counts())"
      ],
      "execution_count": 2,
      "outputs": [
        {
          "output_type": "stream",
          "name": "stdout",
          "text": [
            "<class 'pandas.core.frame.DataFrame'>\n",
            "RangeIndex: 10000 entries, 0 to 9999\n",
            "Data columns (total 16 columns):\n",
            " #   Column                   Non-Null Count  Dtype  \n",
            "---  ------                   --------------  -----  \n",
            " 0   ID                       10000 non-null  int64  \n",
            " 1   Age                      10000 non-null  int64  \n",
            " 2   Gender                   10000 non-null  object \n",
            " 3   Country                  10000 non-null  object \n",
            " 4   Coffee_Intake            10000 non-null  float64\n",
            " 5   Caffeine_mg              10000 non-null  float64\n",
            " 6   Sleep_Hours              10000 non-null  float64\n",
            " 7   Sleep_Quality            10000 non-null  object \n",
            " 8   BMI                      10000 non-null  float64\n",
            " 9   Heart_Rate               10000 non-null  int64  \n",
            " 10  Stress_Level             10000 non-null  object \n",
            " 11  Physical_Activity_Hours  10000 non-null  float64\n",
            " 12  Health_Issues            4059 non-null   object \n",
            " 13  Occupation               10000 non-null  object \n",
            " 14  Smoking                  10000 non-null  int64  \n",
            " 15  Alcohol_Consumption      10000 non-null  int64  \n",
            "dtypes: float64(5), int64(5), object(6)\n",
            "memory usage: 1.2+ MB\n"
          ]
        },
        {
          "output_type": "display_data",
          "data": {
            "text/plain": [
              "                ID           Age  Coffee_Intake   Caffeine_mg   Sleep_Hours  \\\n",
              "count  10000.00000  10000.000000   10000.000000  10000.000000  10000.000000   \n",
              "mean    5000.50000     34.949100       2.509230    238.411010      6.636220   \n",
              "std     2886.89568     11.160939       1.450248    137.748815      1.222055   \n",
              "min        1.00000     18.000000       0.000000      0.000000      3.000000   \n",
              "25%     2500.75000     26.000000       1.500000    138.750000      5.800000   \n",
              "50%     5000.50000     34.000000       2.500000    235.400000      6.600000   \n",
              "75%     7500.25000     43.000000       3.500000    332.025000      7.500000   \n",
              "max    10000.00000     80.000000       8.200000    780.300000     10.000000   \n",
              "\n",
              "                BMI    Heart_Rate  Physical_Activity_Hours      Smoking  \\\n",
              "count  10000.000000  10000.000000              10000.00000  10000.00000   \n",
              "mean      23.986860     70.617800                  7.48704      0.20040   \n",
              "std        3.906411      9.822951                  4.31518      0.40032   \n",
              "min       15.000000     50.000000                  0.00000      0.00000   \n",
              "25%       21.300000     64.000000                  3.70000      0.00000   \n",
              "50%       24.000000     71.000000                  7.50000      0.00000   \n",
              "75%       26.600000     77.000000                 11.20000      0.00000   \n",
              "max       38.200000    109.000000                 15.00000      1.00000   \n",
              "\n",
              "       Alcohol_Consumption  \n",
              "count         10000.000000  \n",
              "mean              0.300700  \n",
              "std               0.458585  \n",
              "min               0.000000  \n",
              "25%               0.000000  \n",
              "50%               0.000000  \n",
              "75%               1.000000  \n",
              "max               1.000000  "
            ],
            "text/html": [
              "\n",
              "  <div id=\"df-c767ca53-f64d-4b66-aee6-73ccdcfa27dc\" class=\"colab-df-container\">\n",
              "    <div>\n",
              "<style scoped>\n",
              "    .dataframe tbody tr th:only-of-type {\n",
              "        vertical-align: middle;\n",
              "    }\n",
              "\n",
              "    .dataframe tbody tr th {\n",
              "        vertical-align: top;\n",
              "    }\n",
              "\n",
              "    .dataframe thead th {\n",
              "        text-align: right;\n",
              "    }\n",
              "</style>\n",
              "<table border=\"1\" class=\"dataframe\">\n",
              "  <thead>\n",
              "    <tr style=\"text-align: right;\">\n",
              "      <th></th>\n",
              "      <th>ID</th>\n",
              "      <th>Age</th>\n",
              "      <th>Coffee_Intake</th>\n",
              "      <th>Caffeine_mg</th>\n",
              "      <th>Sleep_Hours</th>\n",
              "      <th>BMI</th>\n",
              "      <th>Heart_Rate</th>\n",
              "      <th>Physical_Activity_Hours</th>\n",
              "      <th>Smoking</th>\n",
              "      <th>Alcohol_Consumption</th>\n",
              "    </tr>\n",
              "  </thead>\n",
              "  <tbody>\n",
              "    <tr>\n",
              "      <th>count</th>\n",
              "      <td>10000.00000</td>\n",
              "      <td>10000.000000</td>\n",
              "      <td>10000.000000</td>\n",
              "      <td>10000.000000</td>\n",
              "      <td>10000.000000</td>\n",
              "      <td>10000.000000</td>\n",
              "      <td>10000.000000</td>\n",
              "      <td>10000.00000</td>\n",
              "      <td>10000.00000</td>\n",
              "      <td>10000.000000</td>\n",
              "    </tr>\n",
              "    <tr>\n",
              "      <th>mean</th>\n",
              "      <td>5000.50000</td>\n",
              "      <td>34.949100</td>\n",
              "      <td>2.509230</td>\n",
              "      <td>238.411010</td>\n",
              "      <td>6.636220</td>\n",
              "      <td>23.986860</td>\n",
              "      <td>70.617800</td>\n",
              "      <td>7.48704</td>\n",
              "      <td>0.20040</td>\n",
              "      <td>0.300700</td>\n",
              "    </tr>\n",
              "    <tr>\n",
              "      <th>std</th>\n",
              "      <td>2886.89568</td>\n",
              "      <td>11.160939</td>\n",
              "      <td>1.450248</td>\n",
              "      <td>137.748815</td>\n",
              "      <td>1.222055</td>\n",
              "      <td>3.906411</td>\n",
              "      <td>9.822951</td>\n",
              "      <td>4.31518</td>\n",
              "      <td>0.40032</td>\n",
              "      <td>0.458585</td>\n",
              "    </tr>\n",
              "    <tr>\n",
              "      <th>min</th>\n",
              "      <td>1.00000</td>\n",
              "      <td>18.000000</td>\n",
              "      <td>0.000000</td>\n",
              "      <td>0.000000</td>\n",
              "      <td>3.000000</td>\n",
              "      <td>15.000000</td>\n",
              "      <td>50.000000</td>\n",
              "      <td>0.00000</td>\n",
              "      <td>0.00000</td>\n",
              "      <td>0.000000</td>\n",
              "    </tr>\n",
              "    <tr>\n",
              "      <th>25%</th>\n",
              "      <td>2500.75000</td>\n",
              "      <td>26.000000</td>\n",
              "      <td>1.500000</td>\n",
              "      <td>138.750000</td>\n",
              "      <td>5.800000</td>\n",
              "      <td>21.300000</td>\n",
              "      <td>64.000000</td>\n",
              "      <td>3.70000</td>\n",
              "      <td>0.00000</td>\n",
              "      <td>0.000000</td>\n",
              "    </tr>\n",
              "    <tr>\n",
              "      <th>50%</th>\n",
              "      <td>5000.50000</td>\n",
              "      <td>34.000000</td>\n",
              "      <td>2.500000</td>\n",
              "      <td>235.400000</td>\n",
              "      <td>6.600000</td>\n",
              "      <td>24.000000</td>\n",
              "      <td>71.000000</td>\n",
              "      <td>7.50000</td>\n",
              "      <td>0.00000</td>\n",
              "      <td>0.000000</td>\n",
              "    </tr>\n",
              "    <tr>\n",
              "      <th>75%</th>\n",
              "      <td>7500.25000</td>\n",
              "      <td>43.000000</td>\n",
              "      <td>3.500000</td>\n",
              "      <td>332.025000</td>\n",
              "      <td>7.500000</td>\n",
              "      <td>26.600000</td>\n",
              "      <td>77.000000</td>\n",
              "      <td>11.20000</td>\n",
              "      <td>0.00000</td>\n",
              "      <td>1.000000</td>\n",
              "    </tr>\n",
              "    <tr>\n",
              "      <th>max</th>\n",
              "      <td>10000.00000</td>\n",
              "      <td>80.000000</td>\n",
              "      <td>8.200000</td>\n",
              "      <td>780.300000</td>\n",
              "      <td>10.000000</td>\n",
              "      <td>38.200000</td>\n",
              "      <td>109.000000</td>\n",
              "      <td>15.00000</td>\n",
              "      <td>1.00000</td>\n",
              "      <td>1.000000</td>\n",
              "    </tr>\n",
              "  </tbody>\n",
              "</table>\n",
              "</div>\n",
              "    <div class=\"colab-df-buttons\">\n",
              "\n",
              "  <div class=\"colab-df-container\">\n",
              "    <button class=\"colab-df-convert\" onclick=\"convertToInteractive('df-c767ca53-f64d-4b66-aee6-73ccdcfa27dc')\"\n",
              "            title=\"Convert this dataframe to an interactive table.\"\n",
              "            style=\"display:none;\">\n",
              "\n",
              "  <svg xmlns=\"http://www.w3.org/2000/svg\" height=\"24px\" viewBox=\"0 -960 960 960\">\n",
              "    <path d=\"M120-120v-720h720v720H120Zm60-500h600v-160H180v160Zm220 220h160v-160H400v160Zm0 220h160v-160H400v160ZM180-400h160v-160H180v160Zm440 0h160v-160H620v160ZM180-180h160v-160H180v160Zm440 0h160v-160H620v160Z\"/>\n",
              "  </svg>\n",
              "    </button>\n",
              "\n",
              "  <style>\n",
              "    .colab-df-container {\n",
              "      display:flex;\n",
              "      gap: 12px;\n",
              "    }\n",
              "\n",
              "    .colab-df-convert {\n",
              "      background-color: #E8F0FE;\n",
              "      border: none;\n",
              "      border-radius: 50%;\n",
              "      cursor: pointer;\n",
              "      display: none;\n",
              "      fill: #1967D2;\n",
              "      height: 32px;\n",
              "      padding: 0 0 0 0;\n",
              "      width: 32px;\n",
              "    }\n",
              "\n",
              "    .colab-df-convert:hover {\n",
              "      background-color: #E2EBFA;\n",
              "      box-shadow: 0px 1px 2px rgba(60, 64, 67, 0.3), 0px 1px 3px 1px rgba(60, 64, 67, 0.15);\n",
              "      fill: #174EA6;\n",
              "    }\n",
              "\n",
              "    .colab-df-buttons div {\n",
              "      margin-bottom: 4px;\n",
              "    }\n",
              "\n",
              "    [theme=dark] .colab-df-convert {\n",
              "      background-color: #3B4455;\n",
              "      fill: #D2E3FC;\n",
              "    }\n",
              "\n",
              "    [theme=dark] .colab-df-convert:hover {\n",
              "      background-color: #434B5C;\n",
              "      box-shadow: 0px 1px 3px 1px rgba(0, 0, 0, 0.15);\n",
              "      filter: drop-shadow(0px 1px 2px rgba(0, 0, 0, 0.3));\n",
              "      fill: #FFFFFF;\n",
              "    }\n",
              "  </style>\n",
              "\n",
              "    <script>\n",
              "      const buttonEl =\n",
              "        document.querySelector('#df-c767ca53-f64d-4b66-aee6-73ccdcfa27dc button.colab-df-convert');\n",
              "      buttonEl.style.display =\n",
              "        google.colab.kernel.accessAllowed ? 'block' : 'none';\n",
              "\n",
              "      async function convertToInteractive(key) {\n",
              "        const element = document.querySelector('#df-c767ca53-f64d-4b66-aee6-73ccdcfa27dc');\n",
              "        const dataTable =\n",
              "          await google.colab.kernel.invokeFunction('convertToInteractive',\n",
              "                                                    [key], {});\n",
              "        if (!dataTable) return;\n",
              "\n",
              "        const docLinkHtml = 'Like what you see? Visit the ' +\n",
              "          '<a target=\"_blank\" href=https://colab.research.google.com/notebooks/data_table.ipynb>data table notebook</a>'\n",
              "          + ' to learn more about interactive tables.';\n",
              "        element.innerHTML = '';\n",
              "        dataTable['output_type'] = 'display_data';\n",
              "        await google.colab.output.renderOutput(dataTable, element);\n",
              "        const docLink = document.createElement('div');\n",
              "        docLink.innerHTML = docLinkHtml;\n",
              "        element.appendChild(docLink);\n",
              "      }\n",
              "    </script>\n",
              "  </div>\n",
              "\n",
              "\n",
              "    <div id=\"df-b93645f8-1cde-44a2-a0c6-6832e7eec0e6\">\n",
              "      <button class=\"colab-df-quickchart\" onclick=\"quickchart('df-b93645f8-1cde-44a2-a0c6-6832e7eec0e6')\"\n",
              "                title=\"Suggest charts\"\n",
              "                style=\"display:none;\">\n",
              "\n",
              "<svg xmlns=\"http://www.w3.org/2000/svg\" height=\"24px\"viewBox=\"0 0 24 24\"\n",
              "     width=\"24px\">\n",
              "    <g>\n",
              "        <path d=\"M19 3H5c-1.1 0-2 .9-2 2v14c0 1.1.9 2 2 2h14c1.1 0 2-.9 2-2V5c0-1.1-.9-2-2-2zM9 17H7v-7h2v7zm4 0h-2V7h2v10zm4 0h-2v-4h2v4z\"/>\n",
              "    </g>\n",
              "</svg>\n",
              "      </button>\n",
              "\n",
              "<style>\n",
              "  .colab-df-quickchart {\n",
              "      --bg-color: #E8F0FE;\n",
              "      --fill-color: #1967D2;\n",
              "      --hover-bg-color: #E2EBFA;\n",
              "      --hover-fill-color: #174EA6;\n",
              "      --disabled-fill-color: #AAA;\n",
              "      --disabled-bg-color: #DDD;\n",
              "  }\n",
              "\n",
              "  [theme=dark] .colab-df-quickchart {\n",
              "      --bg-color: #3B4455;\n",
              "      --fill-color: #D2E3FC;\n",
              "      --hover-bg-color: #434B5C;\n",
              "      --hover-fill-color: #FFFFFF;\n",
              "      --disabled-bg-color: #3B4455;\n",
              "      --disabled-fill-color: #666;\n",
              "  }\n",
              "\n",
              "  .colab-df-quickchart {\n",
              "    background-color: var(--bg-color);\n",
              "    border: none;\n",
              "    border-radius: 50%;\n",
              "    cursor: pointer;\n",
              "    display: none;\n",
              "    fill: var(--fill-color);\n",
              "    height: 32px;\n",
              "    padding: 0;\n",
              "    width: 32px;\n",
              "  }\n",
              "\n",
              "  .colab-df-quickchart:hover {\n",
              "    background-color: var(--hover-bg-color);\n",
              "    box-shadow: 0 1px 2px rgba(60, 64, 67, 0.3), 0 1px 3px 1px rgba(60, 64, 67, 0.15);\n",
              "    fill: var(--button-hover-fill-color);\n",
              "  }\n",
              "\n",
              "  .colab-df-quickchart-complete:disabled,\n",
              "  .colab-df-quickchart-complete:disabled:hover {\n",
              "    background-color: var(--disabled-bg-color);\n",
              "    fill: var(--disabled-fill-color);\n",
              "    box-shadow: none;\n",
              "  }\n",
              "\n",
              "  .colab-df-spinner {\n",
              "    border: 2px solid var(--fill-color);\n",
              "    border-color: transparent;\n",
              "    border-bottom-color: var(--fill-color);\n",
              "    animation:\n",
              "      spin 1s steps(1) infinite;\n",
              "  }\n",
              "\n",
              "  @keyframes spin {\n",
              "    0% {\n",
              "      border-color: transparent;\n",
              "      border-bottom-color: var(--fill-color);\n",
              "      border-left-color: var(--fill-color);\n",
              "    }\n",
              "    20% {\n",
              "      border-color: transparent;\n",
              "      border-left-color: var(--fill-color);\n",
              "      border-top-color: var(--fill-color);\n",
              "    }\n",
              "    30% {\n",
              "      border-color: transparent;\n",
              "      border-left-color: var(--fill-color);\n",
              "      border-top-color: var(--fill-color);\n",
              "      border-right-color: var(--fill-color);\n",
              "    }\n",
              "    40% {\n",
              "      border-color: transparent;\n",
              "      border-right-color: var(--fill-color);\n",
              "      border-top-color: var(--fill-color);\n",
              "    }\n",
              "    60% {\n",
              "      border-color: transparent;\n",
              "      border-right-color: var(--fill-color);\n",
              "    }\n",
              "    80% {\n",
              "      border-color: transparent;\n",
              "      border-right-color: var(--fill-color);\n",
              "      border-bottom-color: var(--fill-color);\n",
              "    }\n",
              "    90% {\n",
              "      border-color: transparent;\n",
              "      border-bottom-color: var(--fill-color);\n",
              "    }\n",
              "  }\n",
              "</style>\n",
              "\n",
              "      <script>\n",
              "        async function quickchart(key) {\n",
              "          const quickchartButtonEl =\n",
              "            document.querySelector('#' + key + ' button');\n",
              "          quickchartButtonEl.disabled = true;  // To prevent multiple clicks.\n",
              "          quickchartButtonEl.classList.add('colab-df-spinner');\n",
              "          try {\n",
              "            const charts = await google.colab.kernel.invokeFunction(\n",
              "                'suggestCharts', [key], {});\n",
              "          } catch (error) {\n",
              "            console.error('Error during call to suggestCharts:', error);\n",
              "          }\n",
              "          quickchartButtonEl.classList.remove('colab-df-spinner');\n",
              "          quickchartButtonEl.classList.add('colab-df-quickchart-complete');\n",
              "        }\n",
              "        (() => {\n",
              "          let quickchartButtonEl =\n",
              "            document.querySelector('#df-b93645f8-1cde-44a2-a0c6-6832e7eec0e6 button');\n",
              "          quickchartButtonEl.style.display =\n",
              "            google.colab.kernel.accessAllowed ? 'block' : 'none';\n",
              "        })();\n",
              "      </script>\n",
              "    </div>\n",
              "\n",
              "    </div>\n",
              "  </div>\n"
            ],
            "application/vnd.google.colaboratory.intrinsic+json": {
              "type": "dataframe",
              "summary": "{\n  \"name\": \"print(df['Health_Issues']\",\n  \"rows\": 8,\n  \"fields\": [\n    {\n      \"column\": \"ID\",\n      \"properties\": {\n        \"dtype\": \"number\",\n        \"std\": 3603.743586536124,\n        \"min\": 1.0,\n        \"max\": 10000.0,\n        \"num_unique_values\": 6,\n        \"samples\": [\n          10000.0,\n          5000.5,\n          7500.25\n        ],\n        \"semantic_type\": \"\",\n        \"description\": \"\"\n      }\n    },\n    {\n      \"column\": \"Age\",\n      \"properties\": {\n        \"dtype\": \"number\",\n        \"std\": 3523.114348464409,\n        \"min\": 11.160939290516124,\n        \"max\": 10000.0,\n        \"num_unique_values\": 8,\n        \"samples\": [\n          34.9491,\n          34.0,\n          10000.0\n        ],\n        \"semantic_type\": \"\",\n        \"description\": \"\"\n      }\n    },\n    {\n      \"column\": \"Coffee_Intake\",\n      \"properties\": {\n        \"dtype\": \"number\",\n        \"std\": 3534.541784478011,\n        \"min\": 0.0,\n        \"max\": 10000.0,\n        \"num_unique_values\": 8,\n        \"samples\": [\n          2.50923,\n          2.5,\n          10000.0\n        ],\n        \"semantic_type\": \"\",\n        \"description\": \"\"\n      }\n    },\n    {\n      \"column\": \"Caffeine_mg\",\n      \"properties\": {\n        \"dtype\": \"number\",\n        \"std\": 3449.2095333766792,\n        \"min\": 0.0,\n        \"max\": 10000.0,\n        \"num_unique_values\": 8,\n        \"samples\": [\n          238.41101,\n          235.4,\n          10000.0\n        ],\n        \"semantic_type\": \"\",\n        \"description\": \"\"\n      }\n    },\n    {\n      \"column\": \"Sleep_Hours\",\n      \"properties\": {\n        \"dtype\": \"number\",\n        \"std\": 3533.47632629993,\n        \"min\": 1.2220554216341164,\n        \"max\": 10000.0,\n        \"num_unique_values\": 8,\n        \"samples\": [\n          6.63622,\n          6.6,\n          10000.0\n        ],\n        \"semantic_type\": \"\",\n        \"description\": \"\"\n      }\n    },\n    {\n      \"column\": \"BMI\",\n      \"properties\": {\n        \"dtype\": \"number\",\n        \"std\": 3527.8201094724286,\n        \"min\": 3.9064113128720503,\n        \"max\": 10000.0,\n        \"num_unique_values\": 8,\n        \"samples\": [\n          23.986859999999997,\n          24.0,\n          10000.0\n        ],\n        \"semantic_type\": \"\",\n        \"description\": \"\"\n      }\n    },\n    {\n      \"column\": \"Heart_Rate\",\n      \"properties\": {\n        \"dtype\": \"number\",\n        \"std\": 3512.842838211427,\n        \"min\": 9.82295129771216,\n        \"max\": 10000.0,\n        \"num_unique_values\": 8,\n        \"samples\": [\n          70.6178,\n          71.0,\n          10000.0\n        ],\n        \"semantic_type\": \"\",\n        \"description\": \"\"\n      }\n    },\n    {\n      \"column\": \"Physical_Activity_Hours\",\n      \"properties\": {\n        \"dtype\": \"number\",\n        \"std\": 3533.051835358925,\n        \"min\": 0.0,\n        \"max\": 10000.0,\n        \"num_unique_values\": 8,\n        \"samples\": [\n          7.487040000000001,\n          7.5,\n          10000.0\n        ],\n        \"semantic_type\": \"\",\n        \"description\": \"\"\n      }\n    },\n    {\n      \"column\": \"Smoking\",\n      \"properties\": {\n        \"dtype\": \"number\",\n        \"std\": 3535.4530742358793,\n        \"min\": 0.0,\n        \"max\": 10000.0,\n        \"num_unique_values\": 5,\n        \"samples\": [\n          0.2004,\n          1.0,\n          0.40031970421970037\n        ],\n        \"semantic_type\": \"\",\n        \"description\": \"\"\n      }\n    },\n    {\n      \"column\": \"Alcohol_Consumption\",\n      \"properties\": {\n        \"dtype\": \"number\",\n        \"std\": 3535.394565484335,\n        \"min\": 0.0,\n        \"max\": 10000.0,\n        \"num_unique_values\": 5,\n        \"samples\": [\n          0.3007,\n          1.0,\n          0.4585853683383581\n        ],\n        \"semantic_type\": \"\",\n        \"description\": \"\"\n      }\n    }\n  ]\n}"
            }
          },
          "metadata": {}
        },
        {
          "output_type": "stream",
          "name": "stdout",
          "text": [
            "\n",
            "Value counts for 'Health_Issues':\n",
            "Health_Issues\n",
            "Mild        3579\n",
            "Moderate     463\n",
            "Severe        17\n",
            "Name: count, dtype: int64\n"
          ]
        }
      ]
    },
    {
      "cell_type": "markdown",
      "metadata": {
        "id": "b0197e34"
      },
      "source": [
        "## Pra-pemrosesan data\n",
        "\n",
        "### Subtask:\n",
        "Lakukan pra-pemrosesan data yang diperlukan seperti penanganan nilai yang hilang, encoding variabel kategorikal (jika ada), dan penskalaan fitur.\n"
      ]
    },
    {
      "cell_type": "markdown",
      "metadata": {
        "id": "b36cdf05"
      },
      "source": [
        "**Reasoning**:\n",
        "Identify columns with missing values and handle them, identify categorical variables and encode them, and identify numerical features and scale them.\n",
        "\n"
      ]
    },
    {
      "cell_type": "code",
      "metadata": {
        "colab": {
          "base_uri": "https://localhost:8080/",
          "height": 651
        },
        "id": "147cd168",
        "outputId": "9ba14305-6b8c-4f70-ebda-39627b988a4d"
      },
      "source": [
        "from sklearn.impute import SimpleImputer\n",
        "from sklearn.preprocessing import StandardScaler, OneHotEncoder\n",
        "from sklearn.compose import ColumnTransformer\n",
        "from sklearn.pipeline import Pipeline\n",
        "import numpy as np\n",
        "\n",
        "# 1. Handle missing values\n",
        "# Identify columns with missing values\n",
        "missing_cols = df.columns[df.isnull().any()].tolist()\n",
        "print(\"Columns with missing values:\", missing_cols)\n",
        "\n",
        "# Strategy: Impute 'Health_Issues' (categorical) with the most frequent value\n",
        "# Impute numerical columns with the mean (assuming others might have missing values too, though not shown in info)\n",
        "categorical_features_with_missing = ['Health_Issues']\n",
        "numerical_features_with_missing = [col for col in missing_cols if col not in categorical_features_with_missing]\n",
        "\n",
        "# 2. Identify categorical and numerical variables for encoding and scaling\n",
        "categorical_features = ['Gender', 'Country', 'Occupation', 'Smoking', 'Alcohol_Consumption']\n",
        "numerical_features = ['Age', 'Coffee_Intake', 'Caffeine_mg', 'Sleep_Hours', 'BMI', 'Heart_Rate', 'Physical_Activity_Hours']\n",
        "\n",
        "# Separate target variable\n",
        "X = df.drop('Health_Issues', axis=1)\n",
        "y = df['Health_Issues']\n",
        "\n",
        "# Create transformers for preprocessing\n",
        "# Imputation for categorical features with missing values\n",
        "categorical_imputer = SimpleImputer(strategy='most_frequent')\n",
        "\n",
        "# Imputation for numerical features with missing values\n",
        "numerical_imputer = SimpleImputer(strategy='mean')\n",
        "\n",
        "# One-Hot Encoding for categorical features (excluding the target)\n",
        "one_hot_encoder = OneHotEncoder(handle_unknown='ignore')\n",
        "\n",
        "# Scaling for numerical features\n",
        "scaler = StandardScaler()\n",
        "\n",
        "# Create a column transformer to apply different transformations to different columns\n",
        "# Handle missing values first within the transformer or with separate steps before\n",
        "preprocessor = ColumnTransformer(\n",
        "    transformers=[\n",
        "        ('cat_impute', categorical_imputer, categorical_features_with_missing),\n",
        "        ('num_impute', numerical_imputer, numerical_features_with_missing),\n",
        "        ('onehot', one_hot_encoder, categorical_features),\n",
        "        ('scaler', scaler, numerical_features)\n",
        "    ],\n",
        "    remainder='passthrough' # Keep other columns (like ID) - though ID should likely be dropped for modeling\n",
        ")\n",
        "\n",
        "# Apply the preprocessing\n",
        "# Fit and transform the features\n",
        "X_processed = preprocessor.fit_transform(X)\n",
        "\n",
        "# For the target variable, we need to handle missing values and potentially encode it later if it's categorical and\n",
        "# the model requires numerical labels. For SVC and Random Forest, string labels are often fine.\n",
        "# Handle missing values in the target variable\n",
        "y_imputed = y.fillna(y.mode()[0])\n",
        "\n",
        "# Display the shape of the processed features\n",
        "print(\"\\nShape of processed features (X_processed):\", X_processed.shape)\n",
        "\n",
        "# Display the first row of the processed features (optional, for verification)\n",
        "# Note: This will be a numpy array after transformation\n",
        "# print(\"\\nFirst row of processed features:\\n\", X_processed[0])\n",
        "\n",
        "# You can also get the feature names after one-hot encoding if needed\n",
        "# new_feature_names = preprocessor.named_transformers_['onehot'].get_feature_names_out(categorical_features)\n",
        "# print(\"\\nNew feature names after One-Hot Encoding:\", new_feature_names)\n"
      ],
      "execution_count": 3,
      "outputs": [
        {
          "output_type": "stream",
          "name": "stdout",
          "text": [
            "Columns with missing values: ['Health_Issues']\n"
          ]
        },
        {
          "output_type": "error",
          "ename": "ValueError",
          "evalue": "A given column is not a column of the dataframe",
          "traceback": [
            "\u001b[0;31m---------------------------------------------------------------------------\u001b[0m",
            "\u001b[0;31mKeyError\u001b[0m                                  Traceback (most recent call last)",
            "\u001b[0;32m/usr/local/lib/python3.12/dist-packages/pandas/core/indexes/base.py\u001b[0m in \u001b[0;36mget_loc\u001b[0;34m(self, key)\u001b[0m\n\u001b[1;32m   3804\u001b[0m         \u001b[0;32mtry\u001b[0m\u001b[0;34m:\u001b[0m\u001b[0;34m\u001b[0m\u001b[0;34m\u001b[0m\u001b[0m\n\u001b[0;32m-> 3805\u001b[0;31m             \u001b[0;32mreturn\u001b[0m \u001b[0mself\u001b[0m\u001b[0;34m.\u001b[0m\u001b[0m_engine\u001b[0m\u001b[0;34m.\u001b[0m\u001b[0mget_loc\u001b[0m\u001b[0;34m(\u001b[0m\u001b[0mcasted_key\u001b[0m\u001b[0;34m)\u001b[0m\u001b[0;34m\u001b[0m\u001b[0;34m\u001b[0m\u001b[0m\n\u001b[0m\u001b[1;32m   3806\u001b[0m         \u001b[0;32mexcept\u001b[0m \u001b[0mKeyError\u001b[0m \u001b[0;32mas\u001b[0m \u001b[0merr\u001b[0m\u001b[0;34m:\u001b[0m\u001b[0;34m\u001b[0m\u001b[0;34m\u001b[0m\u001b[0m\n",
            "\u001b[0;32mindex.pyx\u001b[0m in \u001b[0;36mpandas._libs.index.IndexEngine.get_loc\u001b[0;34m()\u001b[0m\n",
            "\u001b[0;32mindex.pyx\u001b[0m in \u001b[0;36mpandas._libs.index.IndexEngine.get_loc\u001b[0;34m()\u001b[0m\n",
            "\u001b[0;32mpandas/_libs/hashtable_class_helper.pxi\u001b[0m in \u001b[0;36mpandas._libs.hashtable.PyObjectHashTable.get_item\u001b[0;34m()\u001b[0m\n",
            "\u001b[0;32mpandas/_libs/hashtable_class_helper.pxi\u001b[0m in \u001b[0;36mpandas._libs.hashtable.PyObjectHashTable.get_item\u001b[0;34m()\u001b[0m\n",
            "\u001b[0;31mKeyError\u001b[0m: 'Health_Issues'",
            "\nThe above exception was the direct cause of the following exception:\n",
            "\u001b[0;31mKeyError\u001b[0m                                  Traceback (most recent call last)",
            "\u001b[0;32m/usr/local/lib/python3.12/dist-packages/sklearn/utils/_indexing.py\u001b[0m in \u001b[0;36m_get_column_indices\u001b[0;34m(X, key)\u001b[0m\n\u001b[1;32m    363\u001b[0m             \u001b[0;32mfor\u001b[0m \u001b[0mcol\u001b[0m \u001b[0;32min\u001b[0m \u001b[0mcolumns\u001b[0m\u001b[0;34m:\u001b[0m\u001b[0;34m\u001b[0m\u001b[0;34m\u001b[0m\u001b[0m\n\u001b[0;32m--> 364\u001b[0;31m                 \u001b[0mcol_idx\u001b[0m \u001b[0;34m=\u001b[0m \u001b[0mall_columns\u001b[0m\u001b[0;34m.\u001b[0m\u001b[0mget_loc\u001b[0m\u001b[0;34m(\u001b[0m\u001b[0mcol\u001b[0m\u001b[0;34m)\u001b[0m\u001b[0;34m\u001b[0m\u001b[0;34m\u001b[0m\u001b[0m\n\u001b[0m\u001b[1;32m    365\u001b[0m                 \u001b[0;32mif\u001b[0m \u001b[0;32mnot\u001b[0m \u001b[0misinstance\u001b[0m\u001b[0;34m(\u001b[0m\u001b[0mcol_idx\u001b[0m\u001b[0;34m,\u001b[0m \u001b[0mnumbers\u001b[0m\u001b[0;34m.\u001b[0m\u001b[0mIntegral\u001b[0m\u001b[0;34m)\u001b[0m\u001b[0;34m:\u001b[0m\u001b[0;34m\u001b[0m\u001b[0;34m\u001b[0m\u001b[0m\n",
            "\u001b[0;32m/usr/local/lib/python3.12/dist-packages/pandas/core/indexes/base.py\u001b[0m in \u001b[0;36mget_loc\u001b[0;34m(self, key)\u001b[0m\n\u001b[1;32m   3811\u001b[0m                 \u001b[0;32mraise\u001b[0m \u001b[0mInvalidIndexError\u001b[0m\u001b[0;34m(\u001b[0m\u001b[0mkey\u001b[0m\u001b[0;34m)\u001b[0m\u001b[0;34m\u001b[0m\u001b[0;34m\u001b[0m\u001b[0m\n\u001b[0;32m-> 3812\u001b[0;31m             \u001b[0;32mraise\u001b[0m \u001b[0mKeyError\u001b[0m\u001b[0;34m(\u001b[0m\u001b[0mkey\u001b[0m\u001b[0;34m)\u001b[0m \u001b[0;32mfrom\u001b[0m \u001b[0merr\u001b[0m\u001b[0;34m\u001b[0m\u001b[0;34m\u001b[0m\u001b[0m\n\u001b[0m\u001b[1;32m   3813\u001b[0m         \u001b[0;32mexcept\u001b[0m \u001b[0mTypeError\u001b[0m\u001b[0;34m:\u001b[0m\u001b[0;34m\u001b[0m\u001b[0;34m\u001b[0m\u001b[0m\n",
            "\u001b[0;31mKeyError\u001b[0m: 'Health_Issues'",
            "\nThe above exception was the direct cause of the following exception:\n",
            "\u001b[0;31mValueError\u001b[0m                                Traceback (most recent call last)",
            "\u001b[0;32m/tmp/ipython-input-997400767.py\u001b[0m in \u001b[0;36m<cell line: 0>\u001b[0;34m()\u001b[0m\n\u001b[1;32m     50\u001b[0m \u001b[0;31m# Apply the preprocessing\u001b[0m\u001b[0;34m\u001b[0m\u001b[0;34m\u001b[0m\u001b[0m\n\u001b[1;32m     51\u001b[0m \u001b[0;31m# Fit and transform the features\u001b[0m\u001b[0;34m\u001b[0m\u001b[0;34m\u001b[0m\u001b[0m\n\u001b[0;32m---> 52\u001b[0;31m \u001b[0mX_processed\u001b[0m \u001b[0;34m=\u001b[0m \u001b[0mpreprocessor\u001b[0m\u001b[0;34m.\u001b[0m\u001b[0mfit_transform\u001b[0m\u001b[0;34m(\u001b[0m\u001b[0mX\u001b[0m\u001b[0;34m)\u001b[0m\u001b[0;34m\u001b[0m\u001b[0;34m\u001b[0m\u001b[0m\n\u001b[0m\u001b[1;32m     53\u001b[0m \u001b[0;34m\u001b[0m\u001b[0m\n\u001b[1;32m     54\u001b[0m \u001b[0;31m# For the target variable, we need to handle missing values and potentially encode it later if it's categorical and\u001b[0m\u001b[0;34m\u001b[0m\u001b[0;34m\u001b[0m\u001b[0m\n",
            "\u001b[0;32m/usr/local/lib/python3.12/dist-packages/sklearn/utils/_set_output.py\u001b[0m in \u001b[0;36mwrapped\u001b[0;34m(self, X, *args, **kwargs)\u001b[0m\n\u001b[1;32m    317\u001b[0m     \u001b[0;34m@\u001b[0m\u001b[0mwraps\u001b[0m\u001b[0;34m(\u001b[0m\u001b[0mf\u001b[0m\u001b[0;34m)\u001b[0m\u001b[0;34m\u001b[0m\u001b[0;34m\u001b[0m\u001b[0m\n\u001b[1;32m    318\u001b[0m     \u001b[0;32mdef\u001b[0m \u001b[0mwrapped\u001b[0m\u001b[0;34m(\u001b[0m\u001b[0mself\u001b[0m\u001b[0;34m,\u001b[0m \u001b[0mX\u001b[0m\u001b[0;34m,\u001b[0m \u001b[0;34m*\u001b[0m\u001b[0margs\u001b[0m\u001b[0;34m,\u001b[0m \u001b[0;34m**\u001b[0m\u001b[0mkwargs\u001b[0m\u001b[0;34m)\u001b[0m\u001b[0;34m:\u001b[0m\u001b[0;34m\u001b[0m\u001b[0;34m\u001b[0m\u001b[0m\n\u001b[0;32m--> 319\u001b[0;31m         \u001b[0mdata_to_wrap\u001b[0m \u001b[0;34m=\u001b[0m \u001b[0mf\u001b[0m\u001b[0;34m(\u001b[0m\u001b[0mself\u001b[0m\u001b[0;34m,\u001b[0m \u001b[0mX\u001b[0m\u001b[0;34m,\u001b[0m \u001b[0;34m*\u001b[0m\u001b[0margs\u001b[0m\u001b[0;34m,\u001b[0m \u001b[0;34m**\u001b[0m\u001b[0mkwargs\u001b[0m\u001b[0;34m)\u001b[0m\u001b[0;34m\u001b[0m\u001b[0;34m\u001b[0m\u001b[0m\n\u001b[0m\u001b[1;32m    320\u001b[0m         \u001b[0;32mif\u001b[0m \u001b[0misinstance\u001b[0m\u001b[0;34m(\u001b[0m\u001b[0mdata_to_wrap\u001b[0m\u001b[0;34m,\u001b[0m \u001b[0mtuple\u001b[0m\u001b[0;34m)\u001b[0m\u001b[0;34m:\u001b[0m\u001b[0;34m\u001b[0m\u001b[0;34m\u001b[0m\u001b[0m\n\u001b[1;32m    321\u001b[0m             \u001b[0;31m# only wrap the first output for cross decomposition\u001b[0m\u001b[0;34m\u001b[0m\u001b[0;34m\u001b[0m\u001b[0m\n",
            "\u001b[0;32m/usr/local/lib/python3.12/dist-packages/sklearn/base.py\u001b[0m in \u001b[0;36mwrapper\u001b[0;34m(estimator, *args, **kwargs)\u001b[0m\n\u001b[1;32m   1387\u001b[0m                 )\n\u001b[1;32m   1388\u001b[0m             ):\n\u001b[0;32m-> 1389\u001b[0;31m                 \u001b[0;32mreturn\u001b[0m \u001b[0mfit_method\u001b[0m\u001b[0;34m(\u001b[0m\u001b[0mestimator\u001b[0m\u001b[0;34m,\u001b[0m \u001b[0;34m*\u001b[0m\u001b[0margs\u001b[0m\u001b[0;34m,\u001b[0m \u001b[0;34m**\u001b[0m\u001b[0mkwargs\u001b[0m\u001b[0;34m)\u001b[0m\u001b[0;34m\u001b[0m\u001b[0;34m\u001b[0m\u001b[0m\n\u001b[0m\u001b[1;32m   1390\u001b[0m \u001b[0;34m\u001b[0m\u001b[0m\n\u001b[1;32m   1391\u001b[0m         \u001b[0;32mreturn\u001b[0m \u001b[0mwrapper\u001b[0m\u001b[0;34m\u001b[0m\u001b[0;34m\u001b[0m\u001b[0m\n",
            "\u001b[0;32m/usr/local/lib/python3.12/dist-packages/sklearn/compose/_column_transformer.py\u001b[0m in \u001b[0;36mfit_transform\u001b[0;34m(self, X, y, **params)\u001b[0m\n\u001b[1;32m    991\u001b[0m         \u001b[0mn_samples\u001b[0m \u001b[0;34m=\u001b[0m \u001b[0m_num_samples\u001b[0m\u001b[0;34m(\u001b[0m\u001b[0mX\u001b[0m\u001b[0;34m)\u001b[0m\u001b[0;34m\u001b[0m\u001b[0;34m\u001b[0m\u001b[0m\n\u001b[1;32m    992\u001b[0m \u001b[0;34m\u001b[0m\u001b[0m\n\u001b[0;32m--> 993\u001b[0;31m         \u001b[0mself\u001b[0m\u001b[0;34m.\u001b[0m\u001b[0m_validate_column_callables\u001b[0m\u001b[0;34m(\u001b[0m\u001b[0mX\u001b[0m\u001b[0;34m)\u001b[0m\u001b[0;34m\u001b[0m\u001b[0;34m\u001b[0m\u001b[0m\n\u001b[0m\u001b[1;32m    994\u001b[0m         \u001b[0mself\u001b[0m\u001b[0;34m.\u001b[0m\u001b[0m_validate_remainder\u001b[0m\u001b[0;34m(\u001b[0m\u001b[0mX\u001b[0m\u001b[0;34m)\u001b[0m\u001b[0;34m\u001b[0m\u001b[0;34m\u001b[0m\u001b[0m\n\u001b[1;32m    995\u001b[0m \u001b[0;34m\u001b[0m\u001b[0m\n",
            "\u001b[0;32m/usr/local/lib/python3.12/dist-packages/sklearn/compose/_column_transformer.py\u001b[0m in \u001b[0;36m_validate_column_callables\u001b[0;34m(self, X)\u001b[0m\n\u001b[1;32m    550\u001b[0m                 \u001b[0mcolumns\u001b[0m \u001b[0;34m=\u001b[0m \u001b[0mcolumns\u001b[0m\u001b[0;34m(\u001b[0m\u001b[0mX\u001b[0m\u001b[0;34m)\u001b[0m\u001b[0;34m\u001b[0m\u001b[0;34m\u001b[0m\u001b[0m\n\u001b[1;32m    551\u001b[0m             \u001b[0mall_columns\u001b[0m\u001b[0;34m.\u001b[0m\u001b[0mappend\u001b[0m\u001b[0;34m(\u001b[0m\u001b[0mcolumns\u001b[0m\u001b[0;34m)\u001b[0m\u001b[0;34m\u001b[0m\u001b[0;34m\u001b[0m\u001b[0m\n\u001b[0;32m--> 552\u001b[0;31m             \u001b[0mtransformer_to_input_indices\u001b[0m\u001b[0;34m[\u001b[0m\u001b[0mname\u001b[0m\u001b[0;34m]\u001b[0m \u001b[0;34m=\u001b[0m \u001b[0m_get_column_indices\u001b[0m\u001b[0;34m(\u001b[0m\u001b[0mX\u001b[0m\u001b[0;34m,\u001b[0m \u001b[0mcolumns\u001b[0m\u001b[0;34m)\u001b[0m\u001b[0;34m\u001b[0m\u001b[0;34m\u001b[0m\u001b[0m\n\u001b[0m\u001b[1;32m    553\u001b[0m \u001b[0;34m\u001b[0m\u001b[0m\n\u001b[1;32m    554\u001b[0m         \u001b[0mself\u001b[0m\u001b[0;34m.\u001b[0m\u001b[0m_columns\u001b[0m \u001b[0;34m=\u001b[0m \u001b[0mall_columns\u001b[0m\u001b[0;34m\u001b[0m\u001b[0;34m\u001b[0m\u001b[0m\n",
            "\u001b[0;32m/usr/local/lib/python3.12/dist-packages/sklearn/utils/_indexing.py\u001b[0m in \u001b[0;36m_get_column_indices\u001b[0;34m(X, key)\u001b[0m\n\u001b[1;32m    370\u001b[0m \u001b[0;34m\u001b[0m\u001b[0m\n\u001b[1;32m    371\u001b[0m         \u001b[0;32mexcept\u001b[0m \u001b[0mKeyError\u001b[0m \u001b[0;32mas\u001b[0m \u001b[0me\u001b[0m\u001b[0;34m:\u001b[0m\u001b[0;34m\u001b[0m\u001b[0;34m\u001b[0m\u001b[0m\n\u001b[0;32m--> 372\u001b[0;31m             \u001b[0;32mraise\u001b[0m \u001b[0mValueError\u001b[0m\u001b[0;34m(\u001b[0m\u001b[0;34m\"A given column is not a column of the dataframe\"\u001b[0m\u001b[0;34m)\u001b[0m \u001b[0;32mfrom\u001b[0m \u001b[0me\u001b[0m\u001b[0;34m\u001b[0m\u001b[0;34m\u001b[0m\u001b[0m\n\u001b[0m\u001b[1;32m    373\u001b[0m \u001b[0;34m\u001b[0m\u001b[0m\n\u001b[1;32m    374\u001b[0m         \u001b[0;32mreturn\u001b[0m \u001b[0mcolumn_indices\u001b[0m\u001b[0;34m\u001b[0m\u001b[0;34m\u001b[0m\u001b[0m\n",
            "\u001b[0;31mValueError\u001b[0m: A given column is not a column of the dataframe"
          ]
        }
      ]
    },
    {
      "cell_type": "markdown",
      "metadata": {
        "id": "c5aab821"
      },
      "source": [
        "**Reasoning**:\n",
        "The previous code failed because `Health_Issues` was included in `numerical_features_with_missing` even though it was dropped from `X`. The `ColumnTransformer` expects the columns specified in the transformers to be present in the input DataFrame `X`. The column `Health_Issues` was correctly identified as having missing values, but it should be handled separately as the target variable `y`, not as a feature in `X` to be imputed within the feature processing pipeline. The `ID` column should also be excluded from feature processing. The fix is to remove `Health_Issues` from the features lists used in the `ColumnTransformer` and handle its imputation on the target variable `y` separately. Additionally, remove `ID` from features.\n",
        "\n"
      ]
    },
    {
      "cell_type": "code",
      "metadata": {
        "colab": {
          "base_uri": "https://localhost:8080/"
        },
        "id": "Pk3iWcPoDCXj",
        "outputId": "11fd40e3-1dd3-4027-e412-6e0287a12219"
      },
      "source": [
        "from sklearn.impute import SimpleImputer\n",
        "from sklearn.preprocessing import StandardScaler, OneHotEncoder\n",
        "from sklearn.compose import ColumnTransformer\n",
        "from sklearn.pipeline import Pipeline\n",
        "import numpy as np\n",
        "\n",
        "# Identify columns with missing values\n",
        "missing_cols = df.columns[df.isnull().any()].tolist()\n",
        "print(\"Columns with missing values:\", missing_cols)\n",
        "\n",
        "# Separate target variable\n",
        "X = df.drop(['Health_Issues', 'ID'], axis=1) # Drop ID as it's not a feature\n",
        "y = df['Health_Issues']\n",
        "\n",
        "# Handle missing values in the target variable\n",
        "# Impute 'Health_Issues' (categorical) with the most frequent value\n",
        "y_imputed = y.fillna(y.mode()[0])\n",
        "\n",
        "# Identify categorical and numerical variables for encoding and scaling in the feature set X\n",
        "# Exclude 'Health_Issues' and 'ID'\n",
        "categorical_features = ['Gender', 'Country', 'Occupation', 'Smoking', 'Alcohol_Consumption']\n",
        "numerical_features = ['Age', 'Coffee_Intake', 'Caffeine_mg', 'Sleep_Hours', 'BMI', 'Heart_Rate', 'Physical_Activity_Hours']\n",
        "\n",
        "# Create transformers for preprocessing the features (X)\n",
        "# One-Hot Encoding for categorical features\n",
        "one_hot_encoder = OneHotEncoder(handle_unknown='ignore')\n",
        "\n",
        "# Scaling for numerical features\n",
        "scaler = StandardScaler()\n",
        "\n",
        "# Create a column transformer to apply different transformations to different columns in X\n",
        "preprocessor = ColumnTransformer(\n",
        "    transformers=[\n",
        "        ('onehot', one_hot_encoder, categorical_features),\n",
        "        ('scaler', scaler, numerical_features)\n",
        "    ],\n",
        "    remainder='passthrough' # This will keep any other columns, but we've dropped 'ID', so it's fine.\n",
        ")\n",
        "\n",
        "# Apply the preprocessing to the features X\n",
        "# Fit and transform the features\n",
        "X_processed = preprocessor.fit_transform(X)\n",
        "\n",
        "# Display the shape of the processed features\n",
        "print(\"\\nShape of processed features (X_processed):\", X_processed.shape)\n",
        "\n",
        "# Display the first row of the processed features (optional, for verification)\n",
        "# print(\"\\nFirst row of processed features:\\n\", X_processed[0])\n",
        "\n",
        "# The preprocessed features are now in X_processed and the target variable is in y_imputed\n"
      ],
      "execution_count": 4,
      "outputs": [
        {
          "output_type": "stream",
          "name": "stdout",
          "text": [
            "Columns with missing values: ['Health_Issues']\n",
            "\n",
            "Shape of processed features (X_processed): (10000, 41)\n"
          ]
        }
      ]
    },
    {
      "cell_type": "markdown",
      "metadata": {
        "id": "fa0a41b9"
      },
      "source": [
        "## Pembagian data\n",
        "\n",
        "### Subtask:\n",
        "Bagi data menjadi set pelatihan dan pengujian.\n"
      ]
    },
    {
      "cell_type": "markdown",
      "metadata": {
        "id": "175227e8"
      },
      "source": [
        "**Reasoning**:\n",
        "Bagi fitur yang telah diproses dan target yang telah diimputasi menjadi set pelatihan dan pengujian, lalu cetak bentuknya untuk verifikasi.\n",
        "\n"
      ]
    },
    {
      "cell_type": "code",
      "metadata": {
        "colab": {
          "base_uri": "https://localhost:8080/"
        },
        "id": "aad9d9ae",
        "outputId": "19eb9c4f-6526-45ba-c0dd-dd5093db44fd"
      },
      "source": [
        "from sklearn.model_selection import train_test_split\n",
        "\n",
        "# Bagi data menjadi set pelatihan dan pengujian\n",
        "X_train, X_test, y_train, y_test = train_test_split(\n",
        "    X_processed, y_imputed, test_size=0.2, random_state=42, stratify=y_imputed\n",
        ")\n",
        "\n",
        "# Cetak bentuk dari set pelatihan dan pengujian\n",
        "print(\"Shape of X_train:\", X_train.shape)\n",
        "print(\"Shape of X_test:\", X_test.shape)\n",
        "print(\"Shape of y_train:\", y_train.shape)\n",
        "print(\"Shape of y_test:\", y_test.shape)"
      ],
      "execution_count": 5,
      "outputs": [
        {
          "output_type": "stream",
          "name": "stdout",
          "text": [
            "Shape of X_train: (8000, 41)\n",
            "Shape of X_test: (2000, 41)\n",
            "Shape of y_train: (8000,)\n",
            "Shape of y_test: (2000,)\n"
          ]
        }
      ]
    },
    {
      "cell_type": "markdown",
      "metadata": {
        "id": "e17e8b28"
      },
      "source": [
        "## Implementasi model supervised learning\n",
        "\n",
        "### Subtask:\n",
        "Implementasikan Support Vector Classifier dan satu atau lebih model klasifikasi lainnya (Random Forest, KNN, Naive Bayes, dll.).\n"
      ]
    },
    {
      "cell_type": "markdown",
      "metadata": {
        "id": "bc37e4eb"
      },
      "source": [
        "**Reasoning**:\n",
        "Impor kelas model klasifikasi yang akan digunakan, inisialisasi instance dari masing-masing model, dan simpan instance model dalam variabel.\n",
        "\n"
      ]
    },
    {
      "cell_type": "code",
      "metadata": {
        "colab": {
          "base_uri": "https://localhost:8080/"
        },
        "id": "21561384",
        "outputId": "9f17a8cd-dcfb-4104-a896-a407506d3175"
      },
      "source": [
        "from sklearn.svm import SVC\n",
        "from sklearn.ensemble import RandomForestClassifier\n",
        "from sklearn.neighbors import KNeighborsClassifier\n",
        "\n",
        "# Inisialisasi instance model klasifikasi\n",
        "svc_model = SVC(random_state=42)\n",
        "rf_model = RandomForestClassifier(random_state=42)\n",
        "knn_model = KNeighborsClassifier()\n",
        "\n",
        "print(\"Model klasifikasi telah diinisialisasi:\")\n",
        "print(\"- Support Vector Classifier (svc_model)\")\n",
        "print(\"- Random Forest Classifier (rf_model)\")\n",
        "print(\"- K-Nearest Neighbors (knn_model)\")"
      ],
      "execution_count": 6,
      "outputs": [
        {
          "output_type": "stream",
          "name": "stdout",
          "text": [
            "Model klasifikasi telah diinisialisasi:\n",
            "- Support Vector Classifier (svc_model)\n",
            "- Random Forest Classifier (rf_model)\n",
            "- K-Nearest Neighbors (knn_model)\n"
          ]
        }
      ]
    },
    {
      "cell_type": "markdown",
      "metadata": {
        "id": "a4156c20"
      },
      "source": [
        "## Pelatihan model\n",
        "\n",
        "### Subtask:\n",
        "Latih model yang dipilih menggunakan set pelatihan.\n"
      ]
    },
    {
      "cell_type": "markdown",
      "metadata": {
        "id": "9a056205"
      },
      "source": [
        "**Reasoning**:\n",
        "Train the initialized classification models using the training data.\n",
        "\n"
      ]
    },
    {
      "cell_type": "code",
      "metadata": {
        "colab": {
          "base_uri": "https://localhost:8080/",
          "height": 356
        },
        "id": "82a7d987",
        "outputId": "90893737-622d-45dd-dc07-5e4ace5c04c1"
      },
      "source": [
        "# Train the Support Vector Classifier model\n",
        "svc_model.fit(X_train, y_train)\n",
        "print(\"Support Vector Classifier model trained.\")\n",
        "\n",
        "# Train the Random Forest Classifier model\n",
        "rf_model.fit(X_train, y_train)\n",
        "print(\"Random Forest Classifier model trained.\")\n",
        "\n",
        "# Train the K-Nearest Neighbors model\n",
        "knn_model.fit(X_train, y_train)\n",
        "print(\"K-Nearest Neighbors model trained.\")"
      ],
      "execution_count": 7,
      "outputs": [
        {
          "output_type": "error",
          "ename": "ValueError",
          "evalue": "could not convert string to float: 'Good'",
          "traceback": [
            "\u001b[0;31m---------------------------------------------------------------------------\u001b[0m",
            "\u001b[0;31mValueError\u001b[0m                                Traceback (most recent call last)",
            "\u001b[0;32m/tmp/ipython-input-2404161802.py\u001b[0m in \u001b[0;36m<cell line: 0>\u001b[0;34m()\u001b[0m\n\u001b[1;32m      1\u001b[0m \u001b[0;31m# Train the Support Vector Classifier model\u001b[0m\u001b[0;34m\u001b[0m\u001b[0;34m\u001b[0m\u001b[0m\n\u001b[0;32m----> 2\u001b[0;31m \u001b[0msvc_model\u001b[0m\u001b[0;34m.\u001b[0m\u001b[0mfit\u001b[0m\u001b[0;34m(\u001b[0m\u001b[0mX_train\u001b[0m\u001b[0;34m,\u001b[0m \u001b[0my_train\u001b[0m\u001b[0;34m)\u001b[0m\u001b[0;34m\u001b[0m\u001b[0;34m\u001b[0m\u001b[0m\n\u001b[0m\u001b[1;32m      3\u001b[0m \u001b[0mprint\u001b[0m\u001b[0;34m(\u001b[0m\u001b[0;34m\"Support Vector Classifier model trained.\"\u001b[0m\u001b[0;34m)\u001b[0m\u001b[0;34m\u001b[0m\u001b[0;34m\u001b[0m\u001b[0m\n\u001b[1;32m      4\u001b[0m \u001b[0;34m\u001b[0m\u001b[0m\n\u001b[1;32m      5\u001b[0m \u001b[0;31m# Train the Random Forest Classifier model\u001b[0m\u001b[0;34m\u001b[0m\u001b[0;34m\u001b[0m\u001b[0m\n",
            "\u001b[0;32m/usr/local/lib/python3.12/dist-packages/sklearn/base.py\u001b[0m in \u001b[0;36mwrapper\u001b[0;34m(estimator, *args, **kwargs)\u001b[0m\n\u001b[1;32m   1387\u001b[0m                 )\n\u001b[1;32m   1388\u001b[0m             ):\n\u001b[0;32m-> 1389\u001b[0;31m                 \u001b[0;32mreturn\u001b[0m \u001b[0mfit_method\u001b[0m\u001b[0;34m(\u001b[0m\u001b[0mestimator\u001b[0m\u001b[0;34m,\u001b[0m \u001b[0;34m*\u001b[0m\u001b[0margs\u001b[0m\u001b[0;34m,\u001b[0m \u001b[0;34m**\u001b[0m\u001b[0mkwargs\u001b[0m\u001b[0;34m)\u001b[0m\u001b[0;34m\u001b[0m\u001b[0;34m\u001b[0m\u001b[0m\n\u001b[0m\u001b[1;32m   1390\u001b[0m \u001b[0;34m\u001b[0m\u001b[0m\n\u001b[1;32m   1391\u001b[0m         \u001b[0;32mreturn\u001b[0m \u001b[0mwrapper\u001b[0m\u001b[0;34m\u001b[0m\u001b[0;34m\u001b[0m\u001b[0m\n",
            "\u001b[0;32m/usr/local/lib/python3.12/dist-packages/sklearn/svm/_base.py\u001b[0m in \u001b[0;36mfit\u001b[0;34m(self, X, y, sample_weight)\u001b[0m\n\u001b[1;32m    195\u001b[0m             \u001b[0mcheck_consistent_length\u001b[0m\u001b[0;34m(\u001b[0m\u001b[0mX\u001b[0m\u001b[0;34m,\u001b[0m \u001b[0my\u001b[0m\u001b[0;34m)\u001b[0m\u001b[0;34m\u001b[0m\u001b[0;34m\u001b[0m\u001b[0m\n\u001b[1;32m    196\u001b[0m         \u001b[0;32melse\u001b[0m\u001b[0;34m:\u001b[0m\u001b[0;34m\u001b[0m\u001b[0;34m\u001b[0m\u001b[0m\n\u001b[0;32m--> 197\u001b[0;31m             X, y = validate_data(\n\u001b[0m\u001b[1;32m    198\u001b[0m                 \u001b[0mself\u001b[0m\u001b[0;34m,\u001b[0m\u001b[0;34m\u001b[0m\u001b[0;34m\u001b[0m\u001b[0m\n\u001b[1;32m    199\u001b[0m                 \u001b[0mX\u001b[0m\u001b[0;34m,\u001b[0m\u001b[0;34m\u001b[0m\u001b[0;34m\u001b[0m\u001b[0m\n",
            "\u001b[0;32m/usr/local/lib/python3.12/dist-packages/sklearn/utils/validation.py\u001b[0m in \u001b[0;36mvalidate_data\u001b[0;34m(_estimator, X, y, reset, validate_separately, skip_check_array, **check_params)\u001b[0m\n\u001b[1;32m   2959\u001b[0m             \u001b[0my\u001b[0m \u001b[0;34m=\u001b[0m \u001b[0mcheck_array\u001b[0m\u001b[0;34m(\u001b[0m\u001b[0my\u001b[0m\u001b[0;34m,\u001b[0m \u001b[0minput_name\u001b[0m\u001b[0;34m=\u001b[0m\u001b[0;34m\"y\"\u001b[0m\u001b[0;34m,\u001b[0m \u001b[0;34m**\u001b[0m\u001b[0mcheck_y_params\u001b[0m\u001b[0;34m)\u001b[0m\u001b[0;34m\u001b[0m\u001b[0;34m\u001b[0m\u001b[0m\n\u001b[1;32m   2960\u001b[0m         \u001b[0;32melse\u001b[0m\u001b[0;34m:\u001b[0m\u001b[0;34m\u001b[0m\u001b[0;34m\u001b[0m\u001b[0m\n\u001b[0;32m-> 2961\u001b[0;31m             \u001b[0mX\u001b[0m\u001b[0;34m,\u001b[0m \u001b[0my\u001b[0m \u001b[0;34m=\u001b[0m \u001b[0mcheck_X_y\u001b[0m\u001b[0;34m(\u001b[0m\u001b[0mX\u001b[0m\u001b[0;34m,\u001b[0m \u001b[0my\u001b[0m\u001b[0;34m,\u001b[0m \u001b[0;34m**\u001b[0m\u001b[0mcheck_params\u001b[0m\u001b[0;34m)\u001b[0m\u001b[0;34m\u001b[0m\u001b[0;34m\u001b[0m\u001b[0m\n\u001b[0m\u001b[1;32m   2962\u001b[0m         \u001b[0mout\u001b[0m \u001b[0;34m=\u001b[0m \u001b[0mX\u001b[0m\u001b[0;34m,\u001b[0m \u001b[0my\u001b[0m\u001b[0;34m\u001b[0m\u001b[0;34m\u001b[0m\u001b[0m\n\u001b[1;32m   2963\u001b[0m \u001b[0;34m\u001b[0m\u001b[0m\n",
            "\u001b[0;32m/usr/local/lib/python3.12/dist-packages/sklearn/utils/validation.py\u001b[0m in \u001b[0;36mcheck_X_y\u001b[0;34m(X, y, accept_sparse, accept_large_sparse, dtype, order, copy, force_writeable, force_all_finite, ensure_all_finite, ensure_2d, allow_nd, multi_output, ensure_min_samples, ensure_min_features, y_numeric, estimator)\u001b[0m\n\u001b[1;32m   1368\u001b[0m     \u001b[0mensure_all_finite\u001b[0m \u001b[0;34m=\u001b[0m \u001b[0m_deprecate_force_all_finite\u001b[0m\u001b[0;34m(\u001b[0m\u001b[0mforce_all_finite\u001b[0m\u001b[0;34m,\u001b[0m \u001b[0mensure_all_finite\u001b[0m\u001b[0;34m)\u001b[0m\u001b[0;34m\u001b[0m\u001b[0;34m\u001b[0m\u001b[0m\n\u001b[1;32m   1369\u001b[0m \u001b[0;34m\u001b[0m\u001b[0m\n\u001b[0;32m-> 1370\u001b[0;31m     X = check_array(\n\u001b[0m\u001b[1;32m   1371\u001b[0m         \u001b[0mX\u001b[0m\u001b[0;34m,\u001b[0m\u001b[0;34m\u001b[0m\u001b[0;34m\u001b[0m\u001b[0m\n\u001b[1;32m   1372\u001b[0m         \u001b[0maccept_sparse\u001b[0m\u001b[0;34m=\u001b[0m\u001b[0maccept_sparse\u001b[0m\u001b[0;34m,\u001b[0m\u001b[0;34m\u001b[0m\u001b[0;34m\u001b[0m\u001b[0m\n",
            "\u001b[0;32m/usr/local/lib/python3.12/dist-packages/sklearn/utils/validation.py\u001b[0m in \u001b[0;36mcheck_array\u001b[0;34m(array, accept_sparse, accept_large_sparse, dtype, order, copy, force_writeable, force_all_finite, ensure_all_finite, ensure_non_negative, ensure_2d, allow_nd, ensure_min_samples, ensure_min_features, estimator, input_name)\u001b[0m\n\u001b[1;32m   1053\u001b[0m                     \u001b[0marray\u001b[0m \u001b[0;34m=\u001b[0m \u001b[0mxp\u001b[0m\u001b[0;34m.\u001b[0m\u001b[0mastype\u001b[0m\u001b[0;34m(\u001b[0m\u001b[0marray\u001b[0m\u001b[0;34m,\u001b[0m \u001b[0mdtype\u001b[0m\u001b[0;34m,\u001b[0m \u001b[0mcopy\u001b[0m\u001b[0;34m=\u001b[0m\u001b[0;32mFalse\u001b[0m\u001b[0;34m)\u001b[0m\u001b[0;34m\u001b[0m\u001b[0;34m\u001b[0m\u001b[0m\n\u001b[1;32m   1054\u001b[0m                 \u001b[0;32melse\u001b[0m\u001b[0;34m:\u001b[0m\u001b[0;34m\u001b[0m\u001b[0;34m\u001b[0m\u001b[0m\n\u001b[0;32m-> 1055\u001b[0;31m                     \u001b[0marray\u001b[0m \u001b[0;34m=\u001b[0m \u001b[0m_asarray_with_order\u001b[0m\u001b[0;34m(\u001b[0m\u001b[0marray\u001b[0m\u001b[0;34m,\u001b[0m \u001b[0morder\u001b[0m\u001b[0;34m=\u001b[0m\u001b[0morder\u001b[0m\u001b[0;34m,\u001b[0m \u001b[0mdtype\u001b[0m\u001b[0;34m=\u001b[0m\u001b[0mdtype\u001b[0m\u001b[0;34m,\u001b[0m \u001b[0mxp\u001b[0m\u001b[0;34m=\u001b[0m\u001b[0mxp\u001b[0m\u001b[0;34m)\u001b[0m\u001b[0;34m\u001b[0m\u001b[0;34m\u001b[0m\u001b[0m\n\u001b[0m\u001b[1;32m   1056\u001b[0m             \u001b[0;32mexcept\u001b[0m \u001b[0mComplexWarning\u001b[0m \u001b[0;32mas\u001b[0m \u001b[0mcomplex_warning\u001b[0m\u001b[0;34m:\u001b[0m\u001b[0;34m\u001b[0m\u001b[0;34m\u001b[0m\u001b[0m\n\u001b[1;32m   1057\u001b[0m                 raise ValueError(\n",
            "\u001b[0;32m/usr/local/lib/python3.12/dist-packages/sklearn/utils/_array_api.py\u001b[0m in \u001b[0;36m_asarray_with_order\u001b[0;34m(array, dtype, order, copy, xp, device)\u001b[0m\n\u001b[1;32m    837\u001b[0m             \u001b[0marray\u001b[0m \u001b[0;34m=\u001b[0m \u001b[0mnumpy\u001b[0m\u001b[0;34m.\u001b[0m\u001b[0marray\u001b[0m\u001b[0;34m(\u001b[0m\u001b[0marray\u001b[0m\u001b[0;34m,\u001b[0m \u001b[0morder\u001b[0m\u001b[0;34m=\u001b[0m\u001b[0morder\u001b[0m\u001b[0;34m,\u001b[0m \u001b[0mdtype\u001b[0m\u001b[0;34m=\u001b[0m\u001b[0mdtype\u001b[0m\u001b[0;34m)\u001b[0m\u001b[0;34m\u001b[0m\u001b[0;34m\u001b[0m\u001b[0m\n\u001b[1;32m    838\u001b[0m         \u001b[0;32melse\u001b[0m\u001b[0;34m:\u001b[0m\u001b[0;34m\u001b[0m\u001b[0;34m\u001b[0m\u001b[0m\n\u001b[0;32m--> 839\u001b[0;31m             \u001b[0marray\u001b[0m \u001b[0;34m=\u001b[0m \u001b[0mnumpy\u001b[0m\u001b[0;34m.\u001b[0m\u001b[0masarray\u001b[0m\u001b[0;34m(\u001b[0m\u001b[0marray\u001b[0m\u001b[0;34m,\u001b[0m \u001b[0morder\u001b[0m\u001b[0;34m=\u001b[0m\u001b[0morder\u001b[0m\u001b[0;34m,\u001b[0m \u001b[0mdtype\u001b[0m\u001b[0;34m=\u001b[0m\u001b[0mdtype\u001b[0m\u001b[0;34m)\u001b[0m\u001b[0;34m\u001b[0m\u001b[0;34m\u001b[0m\u001b[0m\n\u001b[0m\u001b[1;32m    840\u001b[0m \u001b[0;34m\u001b[0m\u001b[0m\n\u001b[1;32m    841\u001b[0m         \u001b[0;31m# At this point array is a NumPy ndarray. We convert it to an array\u001b[0m\u001b[0;34m\u001b[0m\u001b[0;34m\u001b[0m\u001b[0m\n",
            "\u001b[0;31mValueError\u001b[0m: could not convert string to float: 'Good'"
          ]
        }
      ]
    },
    {
      "cell_type": "markdown",
      "metadata": {
        "id": "b1286df5"
      },
      "source": [
        "**Reasoning**:\n",
        "The error indicates that there are still non-numeric values in the training data (X_train) that the models cannot process. Although the previous preprocessing step was intended to handle this, it seems something was missed or went wrong. I need to re-examine the preprocessing and ensure all categorical features are properly encoded and all numerical features are scaled. I will regenerate the preprocessing pipeline to fix this issue and then retry training the models.\n",
        "\n"
      ]
    },
    {
      "cell_type": "code",
      "metadata": {
        "colab": {
          "base_uri": "https://localhost:8080/",
          "height": 373
        },
        "id": "DR0gmsUvDTeD",
        "outputId": "245255f9-edab-42da-9c2e-68827f8d3854"
      },
      "source": [
        "from sklearn.impute import SimpleImputer\n",
        "from sklearn.preprocessing import StandardScaler, OneHotEncoder\n",
        "from sklearn.compose import ColumnTransformer\n",
        "from sklearn.pipeline import Pipeline\n",
        "import numpy as np\n",
        "import pandas as pd\n",
        "\n",
        "# Re-create the original DataFrame to apply preprocessing again\n",
        "# Assuming df is still available from the previous steps\n",
        "X = df.drop(['Health_Issues', 'ID'], axis=1) # Drop ID as it's not a feature\n",
        "y = df['Health_Issues']\n",
        "\n",
        "# Handle missing values in the target variable\n",
        "# Impute 'Health_Issues' (categorical) with the most frequent value\n",
        "y_imputed = y.fillna(y.mode()[0])\n",
        "\n",
        "# Identify categorical and numerical variables for encoding and scaling in the feature set X\n",
        "# Exclude 'Health_Issues' and 'ID'\n",
        "categorical_features = ['Gender', 'Country', 'Occupation', 'Smoking', 'Alcohol_Consumption']\n",
        "numerical_features = ['Age', 'Coffee_Intake', 'Caffeine_mg', 'Sleep_Hours', 'BMI', 'Heart_Rate', 'Physical_Activity_Hours']\n",
        "\n",
        "# Verify if there are any other object type columns that might contain strings\n",
        "object_cols = X.select_dtypes(include='object').columns.tolist()\n",
        "print(\"Object columns in X before preprocessing:\", object_cols)\n",
        "\n",
        "\n",
        "# Create transformers for preprocessing the features (X)\n",
        "# One-Hot Encoding for categorical features\n",
        "# Handle unknown 'ignore' is important if test set has categories not in train set\n",
        "one_hot_encoder = OneHotEncoder(handle_unknown='ignore')\n",
        "\n",
        "# Scaling for numerical features\n",
        "scaler = StandardScaler()\n",
        "\n",
        "# Create a column transformer to apply different transformations to different columns in X\n",
        "# Ensure only the identified categorical and numerical features are processed\n",
        "preprocessor = ColumnTransformer(\n",
        "    transformers=[\n",
        "        ('onehot', one_hot_encoder, categorical_features),\n",
        "        ('scaler', scaler, numerical_features)\n",
        "    ],\n",
        "    remainder='passthrough' # This should ideally not have any columns left if we've identified all relevant types\n",
        ")\n",
        "\n",
        "# Create a pipeline that first preprocesses and then trains the models\n",
        "# This ensures preprocessing is applied correctly within the pipeline\n",
        "from sklearn.model_selection import train_test_split\n",
        "from sklearn.svm import SVC\n",
        "from sklearn.ensemble import RandomForestClassifier\n",
        "from sklearn.neighbors import KNeighborsClassifier\n",
        "\n",
        "# Split data again using the potentially re-created X and y_imputed\n",
        "X_train, X_test, y_train, y_test = train_test_split(\n",
        "    X, y_imputed, test_size=0.2, random_state=42, stratify=y_imputed\n",
        ")\n",
        "\n",
        "\n",
        "# Create pipelines for each model, including the preprocessor\n",
        "pipeline_svc = Pipeline(steps=[('preprocessor', preprocessor),\n",
        "                               ('classifier', SVC(random_state=42))])\n",
        "\n",
        "pipeline_rf = Pipeline(steps=[('preprocessor', preprocessor),\n",
        "                              ('classifier', RandomForestClassifier(random_state=42))])\n",
        "\n",
        "pipeline_knn = Pipeline(steps=[('preprocessor', preprocessor),\n",
        "                               ('classifier', KNeighborsClassifier())])\n",
        "\n",
        "# Train the models using the pipelines\n",
        "pipeline_svc.fit(X_train, y_train)\n",
        "print(\"Support Vector Classifier model trained.\")\n",
        "\n",
        "pipeline_rf.fit(X_train, y_train)\n",
        "print(\"Random Forest Classifier model trained.\")\n",
        "\n",
        "pipeline_knn.fit(X_train, y_train)\n",
        "print(\"K-Nearest Neighbors model trained.\")\n"
      ],
      "execution_count": 8,
      "outputs": [
        {
          "output_type": "stream",
          "name": "stdout",
          "text": [
            "Object columns in X before preprocessing: ['Gender', 'Country', 'Sleep_Quality', 'Stress_Level', 'Occupation']\n"
          ]
        },
        {
          "output_type": "error",
          "ename": "ValueError",
          "evalue": "could not convert string to float: 'Good'",
          "traceback": [
            "\u001b[0;31m---------------------------------------------------------------------------\u001b[0m",
            "\u001b[0;31mValueError\u001b[0m                                Traceback (most recent call last)",
            "\u001b[0;32m/tmp/ipython-input-3421907063.py\u001b[0m in \u001b[0;36m<cell line: 0>\u001b[0;34m()\u001b[0m\n\u001b[1;32m     67\u001b[0m \u001b[0;34m\u001b[0m\u001b[0m\n\u001b[1;32m     68\u001b[0m \u001b[0;31m# Train the models using the pipelines\u001b[0m\u001b[0;34m\u001b[0m\u001b[0;34m\u001b[0m\u001b[0m\n\u001b[0;32m---> 69\u001b[0;31m \u001b[0mpipeline_svc\u001b[0m\u001b[0;34m.\u001b[0m\u001b[0mfit\u001b[0m\u001b[0;34m(\u001b[0m\u001b[0mX_train\u001b[0m\u001b[0;34m,\u001b[0m \u001b[0my_train\u001b[0m\u001b[0;34m)\u001b[0m\u001b[0;34m\u001b[0m\u001b[0;34m\u001b[0m\u001b[0m\n\u001b[0m\u001b[1;32m     70\u001b[0m \u001b[0mprint\u001b[0m\u001b[0;34m(\u001b[0m\u001b[0;34m\"Support Vector Classifier model trained.\"\u001b[0m\u001b[0;34m)\u001b[0m\u001b[0;34m\u001b[0m\u001b[0;34m\u001b[0m\u001b[0m\n\u001b[1;32m     71\u001b[0m \u001b[0;34m\u001b[0m\u001b[0m\n",
            "\u001b[0;32m/usr/local/lib/python3.12/dist-packages/sklearn/base.py\u001b[0m in \u001b[0;36mwrapper\u001b[0;34m(estimator, *args, **kwargs)\u001b[0m\n\u001b[1;32m   1387\u001b[0m                 )\n\u001b[1;32m   1388\u001b[0m             ):\n\u001b[0;32m-> 1389\u001b[0;31m                 \u001b[0;32mreturn\u001b[0m \u001b[0mfit_method\u001b[0m\u001b[0;34m(\u001b[0m\u001b[0mestimator\u001b[0m\u001b[0;34m,\u001b[0m \u001b[0;34m*\u001b[0m\u001b[0margs\u001b[0m\u001b[0;34m,\u001b[0m \u001b[0;34m**\u001b[0m\u001b[0mkwargs\u001b[0m\u001b[0;34m)\u001b[0m\u001b[0;34m\u001b[0m\u001b[0;34m\u001b[0m\u001b[0m\n\u001b[0m\u001b[1;32m   1390\u001b[0m \u001b[0;34m\u001b[0m\u001b[0m\n\u001b[1;32m   1391\u001b[0m         \u001b[0;32mreturn\u001b[0m \u001b[0mwrapper\u001b[0m\u001b[0;34m\u001b[0m\u001b[0;34m\u001b[0m\u001b[0m\n",
            "\u001b[0;32m/usr/local/lib/python3.12/dist-packages/sklearn/pipeline.py\u001b[0m in \u001b[0;36mfit\u001b[0;34m(self, X, y, **params)\u001b[0m\n\u001b[1;32m    660\u001b[0m                     \u001b[0mall_params\u001b[0m\u001b[0;34m=\u001b[0m\u001b[0mparams\u001b[0m\u001b[0;34m,\u001b[0m\u001b[0;34m\u001b[0m\u001b[0;34m\u001b[0m\u001b[0m\n\u001b[1;32m    661\u001b[0m                 )\n\u001b[0;32m--> 662\u001b[0;31m                 \u001b[0mself\u001b[0m\u001b[0;34m.\u001b[0m\u001b[0m_final_estimator\u001b[0m\u001b[0;34m.\u001b[0m\u001b[0mfit\u001b[0m\u001b[0;34m(\u001b[0m\u001b[0mXt\u001b[0m\u001b[0;34m,\u001b[0m \u001b[0my\u001b[0m\u001b[0;34m,\u001b[0m \u001b[0;34m**\u001b[0m\u001b[0mlast_step_params\u001b[0m\u001b[0;34m[\u001b[0m\u001b[0;34m\"fit\"\u001b[0m\u001b[0;34m]\u001b[0m\u001b[0;34m)\u001b[0m\u001b[0;34m\u001b[0m\u001b[0;34m\u001b[0m\u001b[0m\n\u001b[0m\u001b[1;32m    663\u001b[0m \u001b[0;34m\u001b[0m\u001b[0m\n\u001b[1;32m    664\u001b[0m         \u001b[0;32mreturn\u001b[0m \u001b[0mself\u001b[0m\u001b[0;34m\u001b[0m\u001b[0;34m\u001b[0m\u001b[0m\n",
            "\u001b[0;32m/usr/local/lib/python3.12/dist-packages/sklearn/base.py\u001b[0m in \u001b[0;36mwrapper\u001b[0;34m(estimator, *args, **kwargs)\u001b[0m\n\u001b[1;32m   1387\u001b[0m                 )\n\u001b[1;32m   1388\u001b[0m             ):\n\u001b[0;32m-> 1389\u001b[0;31m                 \u001b[0;32mreturn\u001b[0m \u001b[0mfit_method\u001b[0m\u001b[0;34m(\u001b[0m\u001b[0mestimator\u001b[0m\u001b[0;34m,\u001b[0m \u001b[0;34m*\u001b[0m\u001b[0margs\u001b[0m\u001b[0;34m,\u001b[0m \u001b[0;34m**\u001b[0m\u001b[0mkwargs\u001b[0m\u001b[0;34m)\u001b[0m\u001b[0;34m\u001b[0m\u001b[0;34m\u001b[0m\u001b[0m\n\u001b[0m\u001b[1;32m   1390\u001b[0m \u001b[0;34m\u001b[0m\u001b[0m\n\u001b[1;32m   1391\u001b[0m         \u001b[0;32mreturn\u001b[0m \u001b[0mwrapper\u001b[0m\u001b[0;34m\u001b[0m\u001b[0;34m\u001b[0m\u001b[0m\n",
            "\u001b[0;32m/usr/local/lib/python3.12/dist-packages/sklearn/svm/_base.py\u001b[0m in \u001b[0;36mfit\u001b[0;34m(self, X, y, sample_weight)\u001b[0m\n\u001b[1;32m    195\u001b[0m             \u001b[0mcheck_consistent_length\u001b[0m\u001b[0;34m(\u001b[0m\u001b[0mX\u001b[0m\u001b[0;34m,\u001b[0m \u001b[0my\u001b[0m\u001b[0;34m)\u001b[0m\u001b[0;34m\u001b[0m\u001b[0;34m\u001b[0m\u001b[0m\n\u001b[1;32m    196\u001b[0m         \u001b[0;32melse\u001b[0m\u001b[0;34m:\u001b[0m\u001b[0;34m\u001b[0m\u001b[0;34m\u001b[0m\u001b[0m\n\u001b[0;32m--> 197\u001b[0;31m             X, y = validate_data(\n\u001b[0m\u001b[1;32m    198\u001b[0m                 \u001b[0mself\u001b[0m\u001b[0;34m,\u001b[0m\u001b[0;34m\u001b[0m\u001b[0;34m\u001b[0m\u001b[0m\n\u001b[1;32m    199\u001b[0m                 \u001b[0mX\u001b[0m\u001b[0;34m,\u001b[0m\u001b[0;34m\u001b[0m\u001b[0;34m\u001b[0m\u001b[0m\n",
            "\u001b[0;32m/usr/local/lib/python3.12/dist-packages/sklearn/utils/validation.py\u001b[0m in \u001b[0;36mvalidate_data\u001b[0;34m(_estimator, X, y, reset, validate_separately, skip_check_array, **check_params)\u001b[0m\n\u001b[1;32m   2959\u001b[0m             \u001b[0my\u001b[0m \u001b[0;34m=\u001b[0m \u001b[0mcheck_array\u001b[0m\u001b[0;34m(\u001b[0m\u001b[0my\u001b[0m\u001b[0;34m,\u001b[0m \u001b[0minput_name\u001b[0m\u001b[0;34m=\u001b[0m\u001b[0;34m\"y\"\u001b[0m\u001b[0;34m,\u001b[0m \u001b[0;34m**\u001b[0m\u001b[0mcheck_y_params\u001b[0m\u001b[0;34m)\u001b[0m\u001b[0;34m\u001b[0m\u001b[0;34m\u001b[0m\u001b[0m\n\u001b[1;32m   2960\u001b[0m         \u001b[0;32melse\u001b[0m\u001b[0;34m:\u001b[0m\u001b[0;34m\u001b[0m\u001b[0;34m\u001b[0m\u001b[0m\n\u001b[0;32m-> 2961\u001b[0;31m             \u001b[0mX\u001b[0m\u001b[0;34m,\u001b[0m \u001b[0my\u001b[0m \u001b[0;34m=\u001b[0m \u001b[0mcheck_X_y\u001b[0m\u001b[0;34m(\u001b[0m\u001b[0mX\u001b[0m\u001b[0;34m,\u001b[0m \u001b[0my\u001b[0m\u001b[0;34m,\u001b[0m \u001b[0;34m**\u001b[0m\u001b[0mcheck_params\u001b[0m\u001b[0;34m)\u001b[0m\u001b[0;34m\u001b[0m\u001b[0;34m\u001b[0m\u001b[0m\n\u001b[0m\u001b[1;32m   2962\u001b[0m         \u001b[0mout\u001b[0m \u001b[0;34m=\u001b[0m \u001b[0mX\u001b[0m\u001b[0;34m,\u001b[0m \u001b[0my\u001b[0m\u001b[0;34m\u001b[0m\u001b[0;34m\u001b[0m\u001b[0m\n\u001b[1;32m   2963\u001b[0m \u001b[0;34m\u001b[0m\u001b[0m\n",
            "\u001b[0;32m/usr/local/lib/python3.12/dist-packages/sklearn/utils/validation.py\u001b[0m in \u001b[0;36mcheck_X_y\u001b[0;34m(X, y, accept_sparse, accept_large_sparse, dtype, order, copy, force_writeable, force_all_finite, ensure_all_finite, ensure_2d, allow_nd, multi_output, ensure_min_samples, ensure_min_features, y_numeric, estimator)\u001b[0m\n\u001b[1;32m   1368\u001b[0m     \u001b[0mensure_all_finite\u001b[0m \u001b[0;34m=\u001b[0m \u001b[0m_deprecate_force_all_finite\u001b[0m\u001b[0;34m(\u001b[0m\u001b[0mforce_all_finite\u001b[0m\u001b[0;34m,\u001b[0m \u001b[0mensure_all_finite\u001b[0m\u001b[0;34m)\u001b[0m\u001b[0;34m\u001b[0m\u001b[0;34m\u001b[0m\u001b[0m\n\u001b[1;32m   1369\u001b[0m \u001b[0;34m\u001b[0m\u001b[0m\n\u001b[0;32m-> 1370\u001b[0;31m     X = check_array(\n\u001b[0m\u001b[1;32m   1371\u001b[0m         \u001b[0mX\u001b[0m\u001b[0;34m,\u001b[0m\u001b[0;34m\u001b[0m\u001b[0;34m\u001b[0m\u001b[0m\n\u001b[1;32m   1372\u001b[0m         \u001b[0maccept_sparse\u001b[0m\u001b[0;34m=\u001b[0m\u001b[0maccept_sparse\u001b[0m\u001b[0;34m,\u001b[0m\u001b[0;34m\u001b[0m\u001b[0;34m\u001b[0m\u001b[0m\n",
            "\u001b[0;32m/usr/local/lib/python3.12/dist-packages/sklearn/utils/validation.py\u001b[0m in \u001b[0;36mcheck_array\u001b[0;34m(array, accept_sparse, accept_large_sparse, dtype, order, copy, force_writeable, force_all_finite, ensure_all_finite, ensure_non_negative, ensure_2d, allow_nd, ensure_min_samples, ensure_min_features, estimator, input_name)\u001b[0m\n\u001b[1;32m   1053\u001b[0m                     \u001b[0marray\u001b[0m \u001b[0;34m=\u001b[0m \u001b[0mxp\u001b[0m\u001b[0;34m.\u001b[0m\u001b[0mastype\u001b[0m\u001b[0;34m(\u001b[0m\u001b[0marray\u001b[0m\u001b[0;34m,\u001b[0m \u001b[0mdtype\u001b[0m\u001b[0;34m,\u001b[0m \u001b[0mcopy\u001b[0m\u001b[0;34m=\u001b[0m\u001b[0;32mFalse\u001b[0m\u001b[0;34m)\u001b[0m\u001b[0;34m\u001b[0m\u001b[0;34m\u001b[0m\u001b[0m\n\u001b[1;32m   1054\u001b[0m                 \u001b[0;32melse\u001b[0m\u001b[0;34m:\u001b[0m\u001b[0;34m\u001b[0m\u001b[0;34m\u001b[0m\u001b[0m\n\u001b[0;32m-> 1055\u001b[0;31m                     \u001b[0marray\u001b[0m \u001b[0;34m=\u001b[0m \u001b[0m_asarray_with_order\u001b[0m\u001b[0;34m(\u001b[0m\u001b[0marray\u001b[0m\u001b[0;34m,\u001b[0m \u001b[0morder\u001b[0m\u001b[0;34m=\u001b[0m\u001b[0morder\u001b[0m\u001b[0;34m,\u001b[0m \u001b[0mdtype\u001b[0m\u001b[0;34m=\u001b[0m\u001b[0mdtype\u001b[0m\u001b[0;34m,\u001b[0m \u001b[0mxp\u001b[0m\u001b[0;34m=\u001b[0m\u001b[0mxp\u001b[0m\u001b[0;34m)\u001b[0m\u001b[0;34m\u001b[0m\u001b[0;34m\u001b[0m\u001b[0m\n\u001b[0m\u001b[1;32m   1056\u001b[0m             \u001b[0;32mexcept\u001b[0m \u001b[0mComplexWarning\u001b[0m \u001b[0;32mas\u001b[0m \u001b[0mcomplex_warning\u001b[0m\u001b[0;34m:\u001b[0m\u001b[0;34m\u001b[0m\u001b[0;34m\u001b[0m\u001b[0m\n\u001b[1;32m   1057\u001b[0m                 raise ValueError(\n",
            "\u001b[0;32m/usr/local/lib/python3.12/dist-packages/sklearn/utils/_array_api.py\u001b[0m in \u001b[0;36m_asarray_with_order\u001b[0;34m(array, dtype, order, copy, xp, device)\u001b[0m\n\u001b[1;32m    837\u001b[0m             \u001b[0marray\u001b[0m \u001b[0;34m=\u001b[0m \u001b[0mnumpy\u001b[0m\u001b[0;34m.\u001b[0m\u001b[0marray\u001b[0m\u001b[0;34m(\u001b[0m\u001b[0marray\u001b[0m\u001b[0;34m,\u001b[0m \u001b[0morder\u001b[0m\u001b[0;34m=\u001b[0m\u001b[0morder\u001b[0m\u001b[0;34m,\u001b[0m \u001b[0mdtype\u001b[0m\u001b[0;34m=\u001b[0m\u001b[0mdtype\u001b[0m\u001b[0;34m)\u001b[0m\u001b[0;34m\u001b[0m\u001b[0;34m\u001b[0m\u001b[0m\n\u001b[1;32m    838\u001b[0m         \u001b[0;32melse\u001b[0m\u001b[0;34m:\u001b[0m\u001b[0;34m\u001b[0m\u001b[0;34m\u001b[0m\u001b[0m\n\u001b[0;32m--> 839\u001b[0;31m             \u001b[0marray\u001b[0m \u001b[0;34m=\u001b[0m \u001b[0mnumpy\u001b[0m\u001b[0;34m.\u001b[0m\u001b[0masarray\u001b[0m\u001b[0;34m(\u001b[0m\u001b[0marray\u001b[0m\u001b[0;34m,\u001b[0m \u001b[0morder\u001b[0m\u001b[0;34m=\u001b[0m\u001b[0morder\u001b[0m\u001b[0;34m,\u001b[0m \u001b[0mdtype\u001b[0m\u001b[0;34m=\u001b[0m\u001b[0mdtype\u001b[0m\u001b[0;34m)\u001b[0m\u001b[0;34m\u001b[0m\u001b[0;34m\u001b[0m\u001b[0m\n\u001b[0m\u001b[1;32m    840\u001b[0m \u001b[0;34m\u001b[0m\u001b[0m\n\u001b[1;32m    841\u001b[0m         \u001b[0;31m# At this point array is a NumPy ndarray. We convert it to an array\u001b[0m\u001b[0;34m\u001b[0m\u001b[0;34m\u001b[0m\u001b[0m\n",
            "\u001b[0;31mValueError\u001b[0m: could not convert string to float: 'Good'"
          ]
        }
      ]
    },
    {
      "cell_type": "markdown",
      "metadata": {
        "id": "6d091428"
      },
      "source": [
        "**Reasoning**:\n",
        "The error persists because the 'Sleep_Quality' and 'Stress_Level' columns, which are of object type and contain string values, were not included in the list of categorical features to be one-hot encoded. I need to update the `categorical_features` list to include these columns and then re-run the pipeline training.\n",
        "\n"
      ]
    },
    {
      "cell_type": "code",
      "metadata": {
        "colab": {
          "base_uri": "https://localhost:8080/"
        },
        "id": "1J8yaLUgDWcD",
        "outputId": "a4a18a0b-9936-409c-c84a-992aa69aa9c4"
      },
      "source": [
        "# Update the list of categorical features to include 'Sleep_Quality' and 'Stress_Level'\n",
        "categorical_features = ['Gender', 'Country', 'Occupation', 'Smoking', 'Alcohol_Consumption', 'Sleep_Quality', 'Stress_Level']\n",
        "numerical_features = ['Age', 'Coffee_Intake', 'Caffeine_mg', 'Sleep_Hours', 'BMI', 'Heart_Rate', 'Physical_Activity_Hours']\n",
        "\n",
        "\n",
        "# Create transformers for preprocessing the features (X)\n",
        "# One-Hot Encoding for categorical features\n",
        "one_hot_encoder = OneHotEncoder(handle_unknown='ignore')\n",
        "\n",
        "# Scaling for numerical features\n",
        "scaler = StandardScaler()\n",
        "\n",
        "# Create a column transformer to apply different transformations to different columns in X\n",
        "preprocessor = ColumnTransformer(\n",
        "    transformers=[\n",
        "        ('onehot', one_hot_encoder, categorical_features),\n",
        "        ('scaler', scaler, numerical_features)\n",
        "    ],\n",
        "    remainder='passthrough' # This should ideally not have any columns left if we've identified all relevant types\n",
        ")\n",
        "\n",
        "# Create a pipeline that first preprocesses and then trains the models\n",
        "# This ensures preprocessing is applied correctly within the pipeline\n",
        "from sklearn.model_selection import train_test_split\n",
        "from sklearn.svm import SVC\n",
        "from sklearn.ensemble import RandomForestClassifier\n",
        "from sklearn.neighbors import KNeighborsClassifier\n",
        "\n",
        "# Assuming X and y_imputed are still available from previous steps\n",
        "# Split data again using the potentially re-created X and y_imputed\n",
        "X_train, X_test, y_train, y_test = train_test_split(\n",
        "    X, y_imputed, test_size=0.2, random_state=42, stratify=y_imputed\n",
        ")\n",
        "\n",
        "\n",
        "# Create pipelines for each model, including the preprocessor\n",
        "pipeline_svc = Pipeline(steps=[('preprocessor', preprocessor),\n",
        "                               ('classifier', SVC(random_state=42))])\n",
        "\n",
        "pipeline_rf = Pipeline(steps=[('preprocessor', preprocessor),\n",
        "                              ('classifier', RandomForestClassifier(random_state=42))])\n",
        "\n",
        "pipeline_knn = Pipeline(steps=[('preprocessor', preprocessor),\n",
        "                               ('classifier', KNeighborsClassifier())])\n",
        "\n",
        "# Train the models using the pipelines\n",
        "pipeline_svc.fit(X_train, y_train)\n",
        "print(\"Support Vector Classifier model trained.\")\n",
        "\n",
        "pipeline_rf.fit(X_train, y_train)\n",
        "print(\"Random Forest Classifier model trained.\")\n",
        "\n",
        "pipeline_knn.fit(X_train, y_train)\n",
        "print(\"K-Nearest Neighbors model trained.\")"
      ],
      "execution_count": 9,
      "outputs": [
        {
          "output_type": "stream",
          "name": "stdout",
          "text": [
            "Support Vector Classifier model trained.\n",
            "Random Forest Classifier model trained.\n",
            "K-Nearest Neighbors model trained.\n"
          ]
        }
      ]
    },
    {
      "cell_type": "markdown",
      "metadata": {
        "id": "ab072609"
      },
      "source": [
        "## Evaluasi model\n",
        "\n",
        "### Subtask:\n",
        "Evaluasi model klasifikasi menggunakan Confusion Matrix dan Classification Report, serta berikan penjelasan untuk setiap metrik evaluasi.\n"
      ]
    },
    {
      "cell_type": "markdown",
      "metadata": {
        "id": "09aadc17"
      },
      "source": [
        "**Reasoning**:\n",
        "Use the trained model pipelines to make predictions on the test set and then calculate and print the confusion matrix and classification report for each model.\n",
        "\n"
      ]
    },
    {
      "cell_type": "code",
      "metadata": {
        "colab": {
          "base_uri": "https://localhost:8080/"
        },
        "id": "4b73413d",
        "outputId": "97c1edbe-4f4d-4e65-85aa-b9a92229532c"
      },
      "source": [
        "from sklearn.metrics import confusion_matrix, classification_report\n",
        "\n",
        "# Make predictions on the test set\n",
        "y_pred_svc = pipeline_svc.predict(X_test)\n",
        "y_pred_rf = pipeline_rf.predict(X_test)\n",
        "y_pred_knn = pipeline_knn.predict(X_test)\n",
        "\n",
        "# Evaluate Support Vector Classifier\n",
        "print(\"--- Support Vector Classifier ---\")\n",
        "print(\"Confusion Matrix:\")\n",
        "print(confusion_matrix(y_test, y_pred_svc))\n",
        "print(\"\\nClassification Report:\")\n",
        "print(classification_report(y_test, y_pred_svc))\n",
        "\n",
        "# Evaluate Random Forest Classifier\n",
        "print(\"--- Random Forest Classifier ---\")\n",
        "print(\"Confusion Matrix:\")\n",
        "print(confusion_matrix(y_test, y_pred_rf))\n",
        "print(\"\\nClassification Report:\")\n",
        "print(classification_report(y_test, y_pred_rf))\n",
        "\n",
        "# Evaluate K-Nearest Neighbors\n",
        "print(\"--- K-Nearest Neighbors ---\")\n",
        "print(\"Confusion Matrix:\")\n",
        "print(confusion_matrix(y_test, y_pred_knn))\n",
        "print(\"\\nClassification Report:\")\n",
        "print(classification_report(y_test, y_pred_knn))"
      ],
      "execution_count": 10,
      "outputs": [
        {
          "output_type": "stream",
          "name": "stdout",
          "text": [
            "--- Support Vector Classifier ---\n",
            "Confusion Matrix:\n",
            "[[1900    4    0]\n",
            " [  40   53    0]\n",
            " [   0    3    0]]\n",
            "\n",
            "Classification Report:\n",
            "              precision    recall  f1-score   support\n",
            "\n",
            "        Mild       0.98      1.00      0.99      1904\n",
            "    Moderate       0.88      0.57      0.69        93\n",
            "      Severe       0.00      0.00      0.00         3\n",
            "\n",
            "    accuracy                           0.98      2000\n",
            "   macro avg       0.62      0.52      0.56      2000\n",
            "weighted avg       0.97      0.98      0.97      2000\n",
            "\n",
            "--- Random Forest Classifier ---\n",
            "Confusion Matrix:\n",
            "[[1900    4    0]\n",
            " [   2   91    0]\n",
            " [   0    2    1]]\n",
            "\n",
            "Classification Report:\n"
          ]
        },
        {
          "output_type": "stream",
          "name": "stderr",
          "text": [
            "/usr/local/lib/python3.12/dist-packages/sklearn/metrics/_classification.py:1565: UndefinedMetricWarning: Precision is ill-defined and being set to 0.0 in labels with no predicted samples. Use `zero_division` parameter to control this behavior.\n",
            "  _warn_prf(average, modifier, f\"{metric.capitalize()} is\", len(result))\n",
            "/usr/local/lib/python3.12/dist-packages/sklearn/metrics/_classification.py:1565: UndefinedMetricWarning: Precision is ill-defined and being set to 0.0 in labels with no predicted samples. Use `zero_division` parameter to control this behavior.\n",
            "  _warn_prf(average, modifier, f\"{metric.capitalize()} is\", len(result))\n",
            "/usr/local/lib/python3.12/dist-packages/sklearn/metrics/_classification.py:1565: UndefinedMetricWarning: Precision is ill-defined and being set to 0.0 in labels with no predicted samples. Use `zero_division` parameter to control this behavior.\n",
            "  _warn_prf(average, modifier, f\"{metric.capitalize()} is\", len(result))\n"
          ]
        },
        {
          "output_type": "stream",
          "name": "stdout",
          "text": [
            "              precision    recall  f1-score   support\n",
            "\n",
            "        Mild       1.00      1.00      1.00      1904\n",
            "    Moderate       0.94      0.98      0.96        93\n",
            "      Severe       1.00      0.33      0.50         3\n",
            "\n",
            "    accuracy                           1.00      2000\n",
            "   macro avg       0.98      0.77      0.82      2000\n",
            "weighted avg       1.00      1.00      1.00      2000\n",
            "\n",
            "--- K-Nearest Neighbors ---\n",
            "Confusion Matrix:\n",
            "[[1901    3    0]\n",
            " [  69   24    0]\n",
            " [   2    1    0]]\n",
            "\n",
            "Classification Report:\n",
            "              precision    recall  f1-score   support\n",
            "\n",
            "        Mild       0.96      1.00      0.98      1904\n",
            "    Moderate       0.86      0.26      0.40        93\n",
            "      Severe       0.00      0.00      0.00         3\n",
            "\n",
            "    accuracy                           0.96      2000\n",
            "   macro avg       0.61      0.42      0.46      2000\n",
            "weighted avg       0.96      0.96      0.95      2000\n",
            "\n"
          ]
        },
        {
          "output_type": "stream",
          "name": "stderr",
          "text": [
            "/usr/local/lib/python3.12/dist-packages/sklearn/metrics/_classification.py:1565: UndefinedMetricWarning: Precision is ill-defined and being set to 0.0 in labels with no predicted samples. Use `zero_division` parameter to control this behavior.\n",
            "  _warn_prf(average, modifier, f\"{metric.capitalize()} is\", len(result))\n",
            "/usr/local/lib/python3.12/dist-packages/sklearn/metrics/_classification.py:1565: UndefinedMetricWarning: Precision is ill-defined and being set to 0.0 in labels with no predicted samples. Use `zero_division` parameter to control this behavior.\n",
            "  _warn_prf(average, modifier, f\"{metric.capitalize()} is\", len(result))\n",
            "/usr/local/lib/python3.12/dist-packages/sklearn/metrics/_classification.py:1565: UndefinedMetricWarning: Precision is ill-defined and being set to 0.0 in labels with no predicted samples. Use `zero_division` parameter to control this behavior.\n",
            "  _warn_prf(average, modifier, f\"{metric.capitalize()} is\", len(result))\n"
          ]
        }
      ]
    },
    {
      "cell_type": "markdown",
      "metadata": {
        "id": "6992daa5"
      },
      "source": [
        "**Reasoning**:\n",
        "Add a markdown cell to provide explanations for the evaluation metrics used in the confusion matrix and classification report in Indonesian.\n",
        "\n"
      ]
    },
    {
      "cell_type": "code",
      "metadata": {
        "id": "iUEeMZzJDfUo"
      },
      "source": [
        "# This is a placeholder cell for adding a markdown explanation in the next turn.\n",
        "# The markdown explanation will cover Confusion Matrix and Classification Report metrics."
      ],
      "execution_count": 11,
      "outputs": []
    },
    {
      "cell_type": "markdown",
      "metadata": {
        "id": "12594117"
      },
      "source": [
        "**Reasoning**:\n",
        "Provide detailed explanations for the Confusion Matrix and Classification Report metrics in Indonesian as requested by the instructions.\n",
        "\n"
      ]
    },
    {
      "cell_type": "code",
      "metadata": {
        "id": "4125ddb1"
      },
      "source": [
        "# This is a placeholder cell for the markdown explanation.\n",
        "# Please add the markdown content directly into this cell."
      ],
      "execution_count": 12,
      "outputs": []
    },
    {
      "cell_type": "markdown",
      "metadata": {
        "id": "23b16069"
      },
      "source": [
        "**Reasoning**:\n",
        "Provide the detailed explanation of the evaluation metrics in Indonesian using a markdown cell.\n",
        "\n"
      ]
    },
    {
      "cell_type": "code",
      "metadata": {
        "colab": {
          "base_uri": "https://localhost:8080/",
          "height": 1000
        },
        "id": "674576c2",
        "outputId": "c6708daa-65a0-46d8-f253-73d3b9a65a79"
      },
      "source": [
        "%%markdown\n",
        "## Penjelasan Metrik Evaluasi Klasifikasi\n",
        "\n",
        "Setelah melatih dan menguji model klasifikasi, kita menggunakan beberapa metrik evaluasi untuk memahami seberapa baik kinerja model dalam memprediksi kategori \"Health_Issues\". Dua alat utama yang kita gunakan adalah **Confusion Matrix** dan **Classification Report**.\n",
        "\n",
        "### Confusion Matrix\n",
        "\n",
        "Confusion Matrix (Matriks Kebingungan) adalah tabel yang meringkas kinerja model klasifikasi pada set data uji. Tabel ini menunjukkan jumlah prediksi yang benar dan salah yang dibuat oleh model untuk setiap kelas. Struktur dasar untuk masalah klasifikasi biner (dua kelas) adalah sebagai berikut:\n",
        "\n",
        "|                | Diprediksi Positif | Diprediksi Negatif |\n",
        "|----------------|--------------------|--------------------|\n",
        "| **Aktual Positif** | True Positive (TP) | False Negative (FN)|\n",
        "| **Aktual Negatif** | False Positive (FP)| True Negative (TN) |\n",
        "\n",
        "Untuk masalah klasifikasi multi-kelas seperti kita (Mild, Moderate, Severe), matriksnya akan lebih besar, dengan baris mewakili kelas aktual dan kolom mewakili kelas yang diprediksi. Angka di sel $(i, j)$ menunjukkan jumlah sampel dari kelas aktual $i$ yang diprediksi sebagai kelas $j$.\n",
        "\n",
        "Berikut adalah penjelasan untuk setiap komponen dalam Confusion Matrix:\n",
        "\n",
        "*   **True Positives (TP):** Jumlah sampel yang sebenarnya positif dan diprediksi dengan benar sebagai positif. Dalam konteks kita, ini adalah jumlah orang dengan tingkat kesehatan tertentu (misalnya, Moderate) yang diprediksi dengan benar sebagai Moderate.\n",
        "*   **True Negatives (TN):** Jumlah sampel yang sebenarnya negatif dan diprediksi dengan benar sebagai negatif. Dalam masalah multi-kelas, konsep \"negatif\" biasanya berkaitan dengan \"bukan kelas tertentu\". Misalnya, untuk kelas 'Mild', TN adalah jumlah orang yang sebenarnya *bukan* 'Mild' dan diprediksi *bukan* 'Mild'.\n",
        "*   **False Positives (FP):** (Kesalahan Tipe I) Jumlah sampel yang sebenarnya negatif tetapi diprediksi salah sebagai positif. Dalam konteks kita, ini adalah jumlah orang yang sebenarnya memiliki tingkat kesehatan yang lebih rendah (misalnya, Mild) tetapi diprediksi sebagai tingkat kesehatan yang lebih tinggi (misalnya, Moderate atau Severe). Ini juga dikenal sebagai kesalahan \"Type I error\".\n",
        "*   **False Negatives (FN):** (Kesalahan Tipe II) Jumlah sampel yang sebenarnya positif tetapi diprediksi salah sebagai negatif. Dalam konteks kita, ini adalah jumlah orang yang sebenarnya memiliki tingkat kesehatan tertentu (misalnya, Moderate) tetapi diprediksi sebagai tingkat kesehatan yang lebih rendah atau berbeda (misalnya, Mild atau Severe). Ini juga dikenal sebagai kesalahan \"Type II error\".\n",
        "\n",
        "Melihat Confusion Matrix memungkinkan kita untuk memahami jenis kesalahan apa yang paling sering dilakukan model. Misalnya, apakah model cenderung salah mengklasifikasikan tingkat kesehatan Moderate sebagai Mild (FN untuk Moderate) atau sebaliknya (FP untuk Mild)?\n",
        "\n",
        "### Classification Report\n",
        "\n",
        "Classification Report (Laporan Klasifikasi) menyediakan ringkasan metrik evaluasi utama untuk setiap kelas, serta rata-rata global. Metrik utama yang disertakan adalah:\n",
        "\n",
        "*   **Precision (Presisi):** Rasio TP terhadap total prediksi positif (TP + FP). Precision menjawab pertanyaan: \"Dari semua sampel yang diprediksi sebagai kelas tertentu, berapa banyak yang sebenarnya milik kelas tersebut?\". Precision yang tinggi berarti model memiliki sedikit False Positives.\n",
        "    $$ \\text{Precision} = \\frac{TP}{TP + FP} $$\n",
        "    *Dalam konteks kita:* Presisi untuk kelas 'Moderate' menunjukkan proporsi orang yang diprediksi memiliki 'Moderate' yang sebenarnya memang memiliki 'Moderate'.\n",
        "\n",
        "*   **Recall (Sensitivity atau True Positive Rate):** Rasio TP terhadap total sampel aktual positif (TP + FN). Recall menjawab pertanyaan: \"Dari semua sampel yang sebenarnya milik kelas tertentu, berapa banyak yang berhasil diprediksi oleh model?\". Recall yang tinggi berarti model memiliki sedikit False Negatives.\n",
        "    $$ \\text{Recall} = \\frac{TP}{TP + FN} $$\n",
        "    *Dalam konteks kita:* Recall untuk kelas 'Moderate' menunjukkan proporsi orang yang sebenarnya memiliki 'Moderate' yang berhasil diidentifikasi oleh model sebagai 'Moderate'.\n",
        "\n",
        "*   **F1-Score:** Rata-rata harmonis dari Precision dan Recall. F1-score berguna ketika ada ketidakseimbangan antara Precision dan Recall. F1-score mencapai nilai terbaiknya pada 1 (presisi dan recall sempurna) dan terburuk pada 0.\n",
        "    $$ \\text{F1-Score} = 2 \\times \\frac{\\text{Precision} \\times \\text{Recall}}{\\text{Precision} + \\text{Recall}} $$\n",
        "    *Dalam konteks kita:* F1-score memberikan ukuran tunggal yang menyeimbangkan Presisi dan Recall untuk setiap tingkat kesehatan.\n",
        "\n",
        "*   **Support:** Jumlah sampel aktual dalam kelas ini di set data uji. Ini adalah jumlah baris dalam Confusion Matrix untuk kelas tersebut.\n",
        "    *Dalam konteks kita:* Support untuk kelas 'Severe' misalnya, menunjukkan berapa banyak orang di set pengujian yang sebenarnya memiliki 'Severe Health Issues'.\n",
        "\n",
        "*   **Accuracy (Akurasi):** Meskipun tidak secara eksplisit ada sebagai baris terpisah untuk setiap kelas di Classification Report, akurasi total disediakan di bagian bawah. Akurasi adalah rasio prediksi yang benar (TP + TN) terhadap total jumlah sampel.\n",
        "    $$ \\text{Accuracy} = \\frac{TP + TN}{TP + FP + FN + TN} $$\n",
        "    *Dalam konteks kita:* Akurasi keseluruhan menunjukkan proporsi orang di set pengujian yang prediksinya (untuk tingkat kesehatan Mild, Moderate, atau Severe) benar. Namun, penting untuk dicatat bahwa akurasi bisa menyesatkan pada dataset dengan kelas yang sangat tidak seimbang (seperti yang kita miliki, di mana kelas 'Mild' jauh lebih dominan), karena model mungkin mencapai akurasi tinggi hanya dengan memprediksi kelas mayoritas. Oleh karena itu, melihat Precision, Recall, dan F1-score per kelas, terutama untuk kelas minoritas ('Moderate' dan 'Severe'), sangat penting.\n",
        "\n",
        "*   **Macro Avg:** Rata-rata unweighted dari metrik (Precision, Recall, F1-score) untuk semua kelas. Ini memperlakukan semua kelas sama, terlepas dari jumlah sampelnya.\n",
        "*   **Weighted Avg:** Rata-rata weighted dari metrik (Precision, Recall, F1-score) untuk semua kelas, di mana bobotnya adalah support (jumlah sampel) untuk setiap kelas. Ini memberikan skor yang lebih mencerminkan kinerja pada dataset secara keseluruhan, dengan kelas mayoritas memiliki dampak lebih besar.\n",
        "\n",
        "Dengan memeriksa metrik-metrik ini, terutama Precision, Recall, dan F1-score untuk setiap kelas, kita dapat mengevaluasi kinerja model dengan lebih nuansa, melampaui hanya melihat akurasi total, terutama ketika berhadapan dengan ketidakseimbangan kelas."
      ],
      "execution_count": 13,
      "outputs": [
        {
          "output_type": "display_data",
          "data": {
            "text/plain": [
              "<IPython.core.display.Markdown object>"
            ],
            "text/markdown": "## Penjelasan Metrik Evaluasi Klasifikasi\n\nSetelah melatih dan menguji model klasifikasi, kita menggunakan beberapa metrik evaluasi untuk memahami seberapa baik kinerja model dalam memprediksi kategori \"Health_Issues\". Dua alat utama yang kita gunakan adalah **Confusion Matrix** dan **Classification Report**.\n\n### Confusion Matrix\n\nConfusion Matrix (Matriks Kebingungan) adalah tabel yang meringkas kinerja model klasifikasi pada set data uji. Tabel ini menunjukkan jumlah prediksi yang benar dan salah yang dibuat oleh model untuk setiap kelas. Struktur dasar untuk masalah klasifikasi biner (dua kelas) adalah sebagai berikut:\n\n|                | Diprediksi Positif | Diprediksi Negatif |\n|----------------|--------------------|--------------------|\n| **Aktual Positif** | True Positive (TP) | False Negative (FN)|\n| **Aktual Negatif** | False Positive (FP)| True Negative (TN) |\n\nUntuk masalah klasifikasi multi-kelas seperti kita (Mild, Moderate, Severe), matriksnya akan lebih besar, dengan baris mewakili kelas aktual dan kolom mewakili kelas yang diprediksi. Angka di sel $(i, j)$ menunjukkan jumlah sampel dari kelas aktual $i$ yang diprediksi sebagai kelas $j$.\n\nBerikut adalah penjelasan untuk setiap komponen dalam Confusion Matrix:\n\n*   **True Positives (TP):** Jumlah sampel yang sebenarnya positif dan diprediksi dengan benar sebagai positif. Dalam konteks kita, ini adalah jumlah orang dengan tingkat kesehatan tertentu (misalnya, Moderate) yang diprediksi dengan benar sebagai Moderate.\n*   **True Negatives (TN):** Jumlah sampel yang sebenarnya negatif dan diprediksi dengan benar sebagai negatif. Dalam masalah multi-kelas, konsep \"negatif\" biasanya berkaitan dengan \"bukan kelas tertentu\". Misalnya, untuk kelas 'Mild', TN adalah jumlah orang yang sebenarnya *bukan* 'Mild' dan diprediksi *bukan* 'Mild'.\n*   **False Positives (FP):** (Kesalahan Tipe I) Jumlah sampel yang sebenarnya negatif tetapi diprediksi salah sebagai positif. Dalam konteks kita, ini adalah jumlah orang yang sebenarnya memiliki tingkat kesehatan yang lebih rendah (misalnya, Mild) tetapi diprediksi sebagai tingkat kesehatan yang lebih tinggi (misalnya, Moderate atau Severe). Ini juga dikenal sebagai kesalahan \"Type I error\".\n*   **False Negatives (FN):** (Kesalahan Tipe II) Jumlah sampel yang sebenarnya positif tetapi diprediksi salah sebagai negatif. Dalam konteks kita, ini adalah jumlah orang yang sebenarnya memiliki tingkat kesehatan tertentu (misalnya, Moderate) tetapi diprediksi sebagai tingkat kesehatan yang lebih rendah atau berbeda (misalnya, Mild atau Severe). Ini juga dikenal sebagai kesalahan \"Type II error\".\n\nMelihat Confusion Matrix memungkinkan kita untuk memahami jenis kesalahan apa yang paling sering dilakukan model. Misalnya, apakah model cenderung salah mengklasifikasikan tingkat kesehatan Moderate sebagai Mild (FN untuk Moderate) atau sebaliknya (FP untuk Mild)?\n\n### Classification Report\n\nClassification Report (Laporan Klasifikasi) menyediakan ringkasan metrik evaluasi utama untuk setiap kelas, serta rata-rata global. Metrik utama yang disertakan adalah:\n\n*   **Precision (Presisi):** Rasio TP terhadap total prediksi positif (TP + FP). Precision menjawab pertanyaan: \"Dari semua sampel yang diprediksi sebagai kelas tertentu, berapa banyak yang sebenarnya milik kelas tersebut?\". Precision yang tinggi berarti model memiliki sedikit False Positives.\n    $$ \\text{Precision} = \\frac{TP}{TP + FP} $$\n    *Dalam konteks kita:* Presisi untuk kelas 'Moderate' menunjukkan proporsi orang yang diprediksi memiliki 'Moderate' yang sebenarnya memang memiliki 'Moderate'.\n\n*   **Recall (Sensitivity atau True Positive Rate):** Rasio TP terhadap total sampel aktual positif (TP + FN). Recall menjawab pertanyaan: \"Dari semua sampel yang sebenarnya milik kelas tertentu, berapa banyak yang berhasil diprediksi oleh model?\". Recall yang tinggi berarti model memiliki sedikit False Negatives.\n    $$ \\text{Recall} = \\frac{TP}{TP + FN} $$\n    *Dalam konteks kita:* Recall untuk kelas 'Moderate' menunjukkan proporsi orang yang sebenarnya memiliki 'Moderate' yang berhasil diidentifikasi oleh model sebagai 'Moderate'.\n\n*   **F1-Score:** Rata-rata harmonis dari Precision dan Recall. F1-score berguna ketika ada ketidakseimbangan antara Precision dan Recall. F1-score mencapai nilai terbaiknya pada 1 (presisi dan recall sempurna) dan terburuk pada 0.\n    $$ \\text{F1-Score} = 2 \\times \\frac{\\text{Precision} \\times \\text{Recall}}{\\text{Precision} + \\text{Recall}} $$\n    *Dalam konteks kita:* F1-score memberikan ukuran tunggal yang menyeimbangkan Presisi dan Recall untuk setiap tingkat kesehatan.\n\n*   **Support:** Jumlah sampel aktual dalam kelas ini di set data uji. Ini adalah jumlah baris dalam Confusion Matrix untuk kelas tersebut.\n    *Dalam konteks kita:* Support untuk kelas 'Severe' misalnya, menunjukkan berapa banyak orang di set pengujian yang sebenarnya memiliki 'Severe Health Issues'.\n\n*   **Accuracy (Akurasi):** Meskipun tidak secara eksplisit ada sebagai baris terpisah untuk setiap kelas di Classification Report, akurasi total disediakan di bagian bawah. Akurasi adalah rasio prediksi yang benar (TP + TN) terhadap total jumlah sampel.\n    $$ \\text{Accuracy} = \\frac{TP + TN}{TP + FP + FN + TN} $$\n    *Dalam konteks kita:* Akurasi keseluruhan menunjukkan proporsi orang di set pengujian yang prediksinya (untuk tingkat kesehatan Mild, Moderate, atau Severe) benar. Namun, penting untuk dicatat bahwa akurasi bisa menyesatkan pada dataset dengan kelas yang sangat tidak seimbang (seperti yang kita miliki, di mana kelas 'Mild' jauh lebih dominan), karena model mungkin mencapai akurasi tinggi hanya dengan memprediksi kelas mayoritas. Oleh karena itu, melihat Precision, Recall, dan F1-score per kelas, terutama untuk kelas minoritas ('Moderate' dan 'Severe'), sangat penting.\n\n*   **Macro Avg:** Rata-rata unweighted dari metrik (Precision, Recall, F1-score) untuk semua kelas. Ini memperlakukan semua kelas sama, terlepas dari jumlah sampelnya.\n*   **Weighted Avg:** Rata-rata weighted dari metrik (Precision, Recall, F1-score) untuk semua kelas, di mana bobotnya adalah support (jumlah sampel) untuk setiap kelas. Ini memberikan skor yang lebih mencerminkan kinerja pada dataset secara keseluruhan, dengan kelas mayoritas memiliki dampak lebih besar.\n\nDengan memeriksa metrik-metrik ini, terutama Precision, Recall, dan F1-score untuk setiap kelas, kita dapat mengevaluasi kinerja model dengan lebih nuansa, melampaui hanya melihat akurasi total, terutama ketika berhadapan dengan ketidakseimbangan kelas.\n"
          },
          "metadata": {}
        }
      ]
    },
    {
      "cell_type": "markdown",
      "metadata": {
        "id": "974e8605"
      },
      "source": [
        "## Visualisasi hasil prediksi\n",
        "\n",
        "### Subtask:\n",
        "Buat plot yang menarik dan informatif untuk memvisualisasikan hasil prediksi. Untuk regresi, plot titik-titik hasil prediksi terhadap titik-titik target asli. Karena ini adalah tugas klasifikasi, visualisasi dapat berupa perbandingan distribusi prediksi per kelas atau visualisasi metrik evaluasi.\n"
      ]
    },
    {
      "cell_type": "markdown",
      "metadata": {
        "id": "9d2bd791"
      },
      "source": [
        "**Reasoning**:\n",
        "Impor pustaka visualisasi yang diperlukan dan buat plot batang untuk membandingkan distribusi kelas aktual dengan prediksi dari setiap model.\n",
        "\n"
      ]
    },
    {
      "cell_type": "code",
      "metadata": {
        "colab": {
          "base_uri": "https://localhost:8080/",
          "height": 550
        },
        "id": "ef50cc1a",
        "outputId": "8a87be8b-4c15-4c0a-acea-308cbac2423d"
      },
      "source": [
        "import matplotlib.pyplot as plt\n",
        "import seaborn as sns\n",
        "\n",
        "# Set the style for the plots\n",
        "sns.set_style('whitegrid')\n",
        "\n",
        "# Create dataframes for plotting class distributions\n",
        "y_test_df = y_test.to_frame(name='Actual')\n",
        "y_pred_svc_df = pd.DataFrame(y_pred_svc, columns=['SVC_Predicted'])\n",
        "y_pred_rf_df = pd.DataFrame(y_pred_rf, columns=['RF_Predicted'])\n",
        "y_pred_knn_df = pd.DataFrame(y_pred_knn, columns=['KNN_Predicted'])\n",
        "\n",
        "# Combine actual and predicted values for plotting\n",
        "combined_preds = pd.concat([y_test_df.reset_index(drop=True),\n",
        "                            y_pred_svc_df,\n",
        "                            y_pred_rf_df,\n",
        "                            y_pred_knn_df], axis=1)\n",
        "\n",
        "# Melt the dataframe for easier plotting with seaborn\n",
        "melted_preds = combined_preds.melt(var_name='Source', value_name='Health_Issue')\n",
        "\n",
        "# Create a countplot to compare class distributions\n",
        "plt.figure(figsize=(12, 6))\n",
        "sns.countplot(data=melted_preds, x='Health_Issue', hue='Source', palette='viridis')\n",
        "plt.title('Perbandingan Distribusi Kelas Aktual vs. Prediksi Model', fontsize=16)\n",
        "plt.xlabel('Tingkat Masalah Kesehatan', fontsize=12)\n",
        "plt.ylabel('Jumlah Sampel', fontsize=12)\n",
        "plt.xticks(rotation=0)\n",
        "plt.legend(title='Sumber')\n",
        "plt.tight_layout()\n",
        "plt.show()"
      ],
      "execution_count": 14,
      "outputs": [
        {
          "output_type": "display_data",
          "data": {
            "text/plain": [
              "<Figure size 1200x600 with 1 Axes>"
            ],
            "image/png": "[encoded data removed]"
          },
          "metadata": {}
        }
      ]
    },
    {
      "cell_type": "markdown",
      "metadata": {
        "id": "663be0c0"
      },
      "source": [
        "**Reasoning**:\n",
        "Buat heatmap dari Confusion Matrix untuk setiap model untuk memvisualisasikan kinerja per kelas secara detail.\n",
        "\n"
      ]
    },
    {
      "cell_type": "code",
      "metadata": {
        "colab": {
          "base_uri": "https://localhost:8080/",
          "height": 314
        },
        "id": "1b54cef2",
        "outputId": "12637ae4-1755-4679-c140-f1ff629ec738"
      },
      "source": [
        "from sklearn.metrics import confusion_matrix\n",
        "\n",
        "# Get the unique classes from the actual test data\n",
        "classes = y_test.unique()\n",
        "classes.sort() # Sort to ensure consistent order\n",
        "\n",
        "# Calculate Confusion Matrices for each model\n",
        "cm_svc = confusion_matrix(y_test, y_pred_svc, labels=classes)\n",
        "cm_rf = confusion_matrix(y_test, y_pred_rf, labels=classes)\n",
        "cm_knn = confusion_matrix(y_test, y_pred_knn, labels=classes)\n",
        "\n",
        "# Create a figure with subplots for each heatmap\n",
        "fig, axes = plt.subplots(1, 3, figsize=(18, 5))\n",
        "\n",
        "# Plot Confusion Matrix for SVC\n",
        "sns.heatmap(cm_svc, annot=True, fmt='d', cmap='Blues', ax=axes[0], xticklabels=classes, yticklabels=classes)\n",
        "axes[0].set_title('Confusion Matrix - SVC', fontsize=14)\n",
        "axes[0].set_xlabel('Prediksi', fontsize=12)\n",
        "axes[0].set_ylabel('Aktual', fontsize=12)\n",
        "\n",
        "# Plot Confusion Matrix for Random Forest\n",
        "sns.heatmap(cm_rf, annot=True, fmt='d', cmap='Blues', ax=axes[1], xticklabels=classes, yticklabels=classes)\n",
        "axes[1].set_title('Confusion Matrix - Random Forest', fontsize=14)\n",
        "axes[1].set_xlabel('Prediksi', fontsize=12)\n",
        "axes[1].set_ylabel('Aktual', fontsize=12)\n",
        "\n",
        "# Plot Confusion Matrix for KNN\n",
        "sns.heatmap(cm_knn, annot=True, fmt='d', cmap='Blues', ax=axes[2], xticklabels=classes, yticklabels=classes)\n",
        "axes[2].set_title('Confusion Matrix - KNN', fontsize=14)\n",
        "axes[2].set_xlabel('Prediksi', fontsize=12)\n",
        "axes[2].set_ylabel('Aktual', fontsize=12)\n",
        "\n",
        "plt.tight_layout()\n",
        "plt.show()"
      ],
      "execution_count": 15,
      "outputs": [
        {
          "output_type": "display_data",
          "data": {
            "text/plain": [
              "<Figure size 1800x500 with 6 Axes>"
            ],
            "image/png": "[encoded data removed]"
          },
          "metadata": {}
        }
      ]
    },
    {
      "cell_type": "markdown",
      "metadata": {
        "id": "6f250162"
      },
      "source": [
        "## Penjelasan markdown\n",
        "\n",
        "### Subtask:\n",
        "Buat sel markdown untuk menjelaskan setiap langkah, model yang digunakan, hasil evaluasi, dan interpretasi visualisasi dalam Bahasa Indonesia.\n"
      ]
    },
    {
      "cell_type": "markdown",
      "metadata": {
        "id": "37c25f31"
      },
      "source": [
        "**Reasoning**:\n",
        "Create a markdown cell to provide a comprehensive explanation of the entire process in Indonesian.\n",
        "\n"
      ]
    },
    {
      "cell_type": "code",
      "metadata": {
        "colab": {
          "base_uri": "https://localhost:8080/",
          "height": 106
        },
        "id": "967de1d7",
        "outputId": "96d7c4ec-c9d9-4ce1-aa6f-08529e20e42d"
      },
      "source": [
        "%%markdown\n",
        "## Analisis Data dan Pemodelan Klasifikasi Kesehatan\n",
        "\n",
        "Analisis ini bertujuan untuk memprediksi tingkat masalah kesehatan (`Health_Issues`) berdasarkan berbagai faktor terkait gaya hidup dan demografi menggunakan dataset `/content/synthetic_coffee_health_10000.csv`.\n",
        "\n",
        "### Pengenalan Dataset dan Tugas\n",
        "\n",
        "Dataset ini berisi informasi tentang 10.000 individu, mencakup kolom seperti usia, jenis kelamin, negara, konsumsi kopi dan kafein, jam tidur, BMI, detak jantung, tingkat stres, aktivitas fisik, pekerjaan, kebiasaan merokok, konsumsi alkohol, dan tingkat masalah kesehatan.\n",
        "\n",
        "Dari eksplorasi data awal, kami menemukan bahwa kolom target `Health_Issues` bersifat kategorikal dengan tiga kategori: 'Mild', 'Moderate', dan 'Severe'. Selain itu, terdapat nilai yang hilang pada kolom ini. Karena target variabel bersifat kategorikal, tugas ini diklasifikasikan sebagai **masalah klasifikasi**.\n",
        "\n",
        "### Pra-pemrosesan Data\n",
        "\n",
        "Sebelum melatih model, data perlu dipersiapkan. Langkah-langkah pra-pemrosesan meliputi:\n",
        "\n",
        "1.  **Penanganan Nilai yang Hilang:** Nilai yang hilang pada kolom target `Health_Issues` diisi (imputasi) menggunakan nilai yang paling sering muncul (modus) dari kolom tersebut.\n",
        "2.  **Pemisahan Fitur dan Target:** Kolom `Health_Issues` dipisahkan sebagai variabel target (`y`), sementara kolom lainnya (kecuali kolom ID yang tidak relevan) digunakan sebagai fitur (`X`).\n",
        "3.  **Encoding Variabel Kategorikal:** Fitur-fitur kategorikal seperti 'Gender', 'Country', 'Occupation', 'Smoking', 'Alcohol_Consumption', 'Sleep_Quality', dan 'Stress_Level' diubah menjadi format numerik menggunakan **One-Hot Encoding**. Proses ini membuat kolom biner baru untuk setiap kategori unik dalam fitur kategorikal.\n",
        "4.  **Penskalaan Fitur Numerik:** Fitur-fitur numerik seperti 'Age', 'Coffee_Intake', 'Caffeine_mg', 'Sleep_Hours', 'BMI', 'Heart_Rate', dan 'Physical_Activity_Hours' diskalakan menggunakan **StandardScaler**. Penskalaan ini memastikan bahwa fitur numerik memiliki rata-rata nol dan varians satu, mencegah fitur dengan rentang nilai yang besar mendominasi model.\n",
        "5.  **Pembuatan Pipeline Pra-pemrosesan:** Sebuah `ColumnTransformer` dibuat untuk menggabungkan langkah encoding dan penskalaan, memastikan transformasi yang benar diterapkan pada jenis kolom yang sesuai.\n",
        "\n",
        "### Pembagian Data\n",
        "\n",
        "Data fitur (`X`) dan target (`y_imputed`) yang telah diproses dibagi menjadi set pelatihan (80%) dan set pengujian (20%) menggunakan fungsi `train_test_split`. Pembagian dilakukan secara stratifikasi (`stratify=y_imputed`) untuk memastikan bahwa distribusi kelas dari variabel target dipertahankan baik di set pelatihan maupun pengujian, yang penting karena adanya ketidakseimbangan kelas.\n",
        "\n",
        "### Model Klasifikasi yang Digunakan\n",
        "\n",
        "Kami mengimplementasikan tiga model klasifikasi:\n",
        "\n",
        "1.  **Support Vector Classifier (SVC):** Model linier atau non-linier yang bekerja dengan menemukan hyperplane terbaik yang memisahkan kelas-kelas dalam ruang fitur.\n",
        "2.  **Random Forest Classifier:** Model ansambel yang membangun banyak pohon keputusan selama pelatihan dan menghasilkan kelas yang merupakan modus dari prediksi kelas pohon individu.\n",
        "3.  **K-Nearest Neighbors (KNN) Classifier:** Model non-parametrik yang mengklasifikasikan titik data baru berdasarkan mayoritas kelas dari 'k' tetangga terdekatnya dalam ruang fitur.\n",
        "\n",
        "Setiap model digabungkan dengan pipeline pra-pemrosesan yang dibuat sebelumnya, membentuk pipeline lengkap untuk setiap model. Ini memastikan bahwa langkah pra-pemrosesan diterapkan secara konsisten pada data sebelum data dimasukkan ke dalam model.\n",
        "\n",
        "### Pelatihan Model\n",
        "\n",
        "Setiap pipeline model (SVC, Random Forest, dan KNN) dilatih menggunakan set data pelatihan (`X_train`, `y_train`). Proses pelatihan menyesuaikan parameter internal setiap model berdasarkan pola dalam data pelatihan untuk dapat membuat prediksi pada data baru.\n",
        "\n",
        "### Evaluasi Model\n",
        "\n",
        "Kinerja setiap model klasifikasi dievaluasi menggunakan metrik berikut pada set data pengujian (`X_test`, `y_test`):\n",
        "\n",
        "*   **Confusion Matrix:** Tabel yang menunjukkan jumlah prediksi benar dan salah untuk setiap kelas. Ini membantu mengidentifikasi jenis kesalahan yang dibuat model (misalnya, salah memprediksi 'Moderate' as 'Mild').\n",
        "*   **Classification Report:** Menyediakan ringkasan metrik per kelas:\n",
        "    *   **Precision:** Proporsi prediksi positif yang sebenarnya benar.\n",
        "    *   **Recall:** Proporsi positif aktual yang berhasil diidentifikasi.\n",
        "    *   **F1-Score:** Rata-rata harmonis dari Precision dan Recall, berguna untuk menangani ketidakseimbangan kelas.\n",
        "    *   **Support:** Jumlah sampel aktual dalam setiap kelas di set pengujian.\n",
        "*   **Overall Accuracy:** Proporsi total prediksi yang benar.\n",
        "\n",
        "Penjelasan mendalam mengenai metrik-metrik ini telah disediakan dalam sel markdown sebelumnya.\n",
        "\n",
        "### Interpretasi Visualisasi Hasil Prediksi\n",
        "\n",
        "Dua jenis visualisasi telah dibuat:\n",
        "\n",
        "1.  **Perbandingan Distribusi Kelas Aktual vs. Prediksi Model:** Plot batang ini secara visual membandingkan jumlah sampel di setiap kelas ('Mild', 'Moderate', 'Severe') antara data uji aktual dan hasil prediksi dari ketiga model. Plot ini menunjukkan seberapa baik setiap model mereplikasi distribusi kelas aktual. Kita dapat melihat bahwa kelas 'Severe' adalah minoritas yang signifikan, dan mungkin sulit bagi model untuk memprediksi kelas ini dengan tepat. Model cenderung memprediksi kelas mayoritas ('Mild') lebih sering.\n",
        "\n",
        "2.  **Heatmap Confusion Matrix:** Heatmap ini menampilkan Confusion Matrix untuk setiap model. Warna yang lebih gelap menunjukkan jumlah sampel yang lebih banyak. Diagonal utama (dari kiri atas ke kanan bawah) mewakili prediksi yang benar (True Positives), sementara sel di luar diagonal utama mewakili kesalahan prediksi (False Positives dan False Negatives).\n",
        "    *   Dari heatmap SVC dan KNN, terlihat bahwa mereka kesulitan memprediksi kelas 'Severe', dengan sedikit atau tanpa True Positives untuk kelas ini. Mereka cenderung salah mengklasifikasikan sampel 'Severe' sebagai 'Mild' atau 'Moderate'.\n",
        "    *   Random Forest menunjukkan kinerja yang sedikit lebih baik dalam mengidentifikasi kelas 'Moderate', meskipun masih ada kesalahan, terutama dalam memprediksi kelas minoritas 'Severe'.\n",
        "\n",
        "Secara keseluruhan, visualisasi mengkonfirmasi temuan dari Classification Report bahwa model memiliki tantangan dalam mengklasifikasikan kelas minoritas ('Severe') dengan akurat, yang kemungkinan disebabkan oleh ketidakseimbangan kelas dalam dataset. Random Forest tampaknya menunjukkan kinerja terbaik di antara ketiga model, terutama untuk kelas 'Moderate', tetapi klasifikasi 'Severe' tetap sulit."
      ],
      "execution_count": 16,
      "outputs": [
        {
          "output_type": "error",
          "ename": "SyntaxError",
          "evalue": "invalid syntax (ipython-input-833996921.py, line 1)",
          "traceback": [
            "\u001b[0;36m  File \u001b[0;32m\"/tmp/ipython-input-833996921.py\"\u001b[0;36m, line \u001b[0;32m1\u001b[0m\n\u001b[0;31m    ```markdown\u001b[0m\n\u001b[0m    ^\u001b[0m\n\u001b[0;31mSyntaxError\u001b[0m\u001b[0;31m:\u001b[0m invalid syntax\n"
          ]
        }
      ]
    },
    {
      "cell_type": "markdown",
      "metadata": {
        "id": "ee63603e"
      },
      "source": [
        "**Reasoning**:\n",
        "The previous attempt to create a markdown cell using `code_block` failed due to a `SyntaxError`. The correct way to create a markdown cell in this environment is using the `%%markdown` magic command at the beginning of the cell.\n",
        "\n"
      ]
    },
    {
      "cell_type": "code",
      "metadata": {
        "colab": {
          "base_uri": "https://localhost:8080/",
          "height": 1000
        },
        "id": "-q4wFWGsEBA2",
        "outputId": "a2a4e680-12ca-42ad-a6ad-dae37b704d09"
      },
      "source": [
        "%%markdown\n",
        "## Analisis Data dan Pemodelan Klasifikasi Kesehatan\n",
        "\n",
        "Analisis ini bertujuan untuk memprediksi tingkat masalah kesehatan (`Health_Issues`) berdasarkan berbagai faktor terkait gaya hidup dan demografi menggunakan dataset `/content/synthetic_coffee_health_10000.csv`.\n",
        "\n",
        "### Pengenalan Dataset dan Tugas\n",
        "\n",
        "Dataset ini berisi informasi tentang 10.000 individu, mencakup kolom seperti usia, jenis kelamin, negara, konsumsi kopi dan kafein, jam tidur, BMI, detak jantung, tingkat stres, aktivitas fisik, pekerjaan, kebiasaan merokok, konsumsi alkohol, dan tingkat masalah kesehatan.\n",
        "\n",
        "Dari eksplorasi data awal, kami menemukan bahwa kolom target `Health_Issues` bersifat kategorikal dengan tiga kategori: 'Mild', 'Moderate', dan 'Severe'. Selain itu, terdapat nilai yang hilang pada kolom ini. Karena target variabel bersifat kategorikal, tugas ini diklasifikasikan sebagai **masalah klasifikasi**.\n",
        "\n",
        "### Pra-pemrosesan Data\n",
        "\n",
        "Sebelum melatih model, data perlu dipersiapkan. Langkah-langkah pra-pemrosesan meliputi:\n",
        "\n",
        "1.  **Penanganan Nilai yang Hilang:** Nilai yang hilang pada kolom target `Health_Issues` diisi (imputasi) menggunakan nilai yang paling sering muncul (modus) dari kolom tersebut.\n",
        "2.  **Pemisahan Fitur dan Target:** Kolom `Health_Issues` dipisahkan sebagai variabel target (`y`), sementara kolom lainnya (kecuali kolom ID yang tidak relevan) digunakan sebagai fitur (`X`).\n",
        "3.  **Encoding Variabel Kategorikal:** Fitur-fitur kategorikal seperti 'Gender', 'Country', 'Occupation', 'Smoking', 'Alcohol_Consumption', 'Sleep_Quality', dan 'Stress_Level' diubah menjadi format numerik menggunakan **One-Hot Encoding**. Proses ini membuat kolom biner baru untuk setiap kategori unik dalam fitur kategorikal.\n",
        "4.  **Penskalaan Fitur Numerik:** Fitur-fitur numerik seperti 'Age', 'Coffee_Intake', 'Caffeine_mg', 'Sleep_Hours', 'BMI', 'Heart_Rate', dan 'Physical_Activity_Hours' diskalakan menggunakan **StandardScaler**. Penskalaan ini memastikan bahwa fitur numerik memiliki rata-rata nol dan varians satu, mencegah fitur dengan rentang nilai yang besar mendominasi model.\n",
        "5.  **Pembuatan Pipeline Pra-pemrosesan:** Sebuah `ColumnTransformer` dibuat untuk menggabungkan langkah encoding dan penskalaan, memastikan transformasi yang benar diterapkan pada jenis kolom yang sesuai.\n",
        "\n",
        "### Pembagian Data\n",
        "\n",
        "Data fitur (`X`) dan target (`y_imputed`) yang telah diproses dibagi menjadi set pelatihan (80%) dan set pengujian (20%) menggunakan fungsi `train_test_split`. Pembagian dilakukan secara stratifikasi (`stratify=y_imputed`) untuk memastikan bahwa distribusi kelas dari variabel target dipertahankan baik di set pelatihan maupun pengujian, yang penting karena adanya ketidakseimbangan kelas.\n",
        "\n",
        "### Model Klasifikasi yang Digunakan\n",
        "\n",
        "Kami mengimplementasikan tiga model klasifikasi:\n",
        "\n",
        "1.  **Support Vector Classifier (SVC):** Model linier atau non-linier yang bekerja dengan menemukan hyperplane terbaik yang memisahkan kelas-kelas dalam ruang fitur.\n",
        "2.  **Random Forest Classifier:** Model ansambel yang membangun banyak pohon keputusan selama pelatihan dan menghasilkan kelas yang merupakan modus dari prediksi kelas pohon individu.\n",
        "3.  **K-Nearest Neighbors (KNN) Classifier:** Model non-parametrik yang mengklasifikasikan titik data baru berdasarkan mayoritas kelas dari 'k' tetangga terdekatnya dalam ruang fitur.\n",
        "\n",
        "Setiap model digabungkan dengan pipeline pra-pemrosesan yang dibuat sebelumnya, membentuk pipeline lengkap untuk setiap model. Ini memastikan bahwa langkah pra-pemrosesan diterapkan secara konsisten pada data sebelum data dimasukkan ke dalam model.\n",
        "\n",
        "### Pelatihan Model\n",
        "\n",
        "Setiap pipeline model (SVC, Random Forest, dan KNN) dilatih menggunakan set data pelatihan (`X_train`, `y_train`). Proses pelatihan menyesuaikan parameter internal setiap model berdasarkan pola dalam data pelatihan untuk dapat membuat prediksi pada data baru.\n",
        "\n",
        "### Evaluasi Model\n",
        "\n",
        "Kinerja setiap model klasifikasi dievaluasi menggunakan metrik berikut pada set data pengujian (`X_test`, `y_test`):\n",
        "\n",
        "*   **Confusion Matrix:** Tabel yang menunjukkan jumlah prediksi benar dan salah untuk setiap kelas. Ini membantu mengidentifikasi jenis kesalahan yang dibuat model (misalnya, salah memprediksi 'Moderate' sebagai 'Mild').\n",
        "*   **Classification Report:** Menyediakan ringkasan metrik per kelas:\n",
        "    *   **Precision:** Proporsi prediksi positif yang sebenarnya benar.\n",
        "    *   **Recall:** Proporsi positif aktual yang berhasil diidentifikasi.\n",
        "    *   **F1-Score:** Rata-rata harmonis dari Precision dan Recall, berguna untuk menangani ketidakseimbangan kelas.\n",
        "    *   **Support:** Jumlah sampel aktual dalam setiap kelas di set pengujian.\n",
        "*   **Overall Accuracy:** Proporsi total prediksi yang benar.\n",
        "\n",
        "Penjelasan mendalam mengenai metrik-metrik ini telah disediakan dalam sel markdown sebelumnya.\n",
        "\n",
        "### Interpretasi Visualisasi Hasil Prediksi\n",
        "\n",
        "Dua jenis visualisasi telah dibuat:\n",
        "\n",
        "1.  **Perbandingan Distribusi Kelas Aktual vs. Prediksi Model:** Plot batang ini secara visual membandingkan jumlah sampel di setiap kelas ('Mild', 'Moderate', 'Severe') antara data uji aktual dan hasil prediksi dari ketiga model. Plot ini menunjukkan seberapa baik setiap model mereplikasi distribusi kelas aktual. Kita dapat melihat bahwa kelas 'Severe' adalah minoritas yang signifikan, dan mungkin sulit bagi model untuk memprediksi kelas ini dengan tepat. Model cenderung memprediksi kelas mayoritas ('Mild') lebih sering.\n",
        "\n",
        "2.  **Heatmap Confusion Matrix:** Heatmap ini menampilkan Confusion Matrix untuk setiap model. Warna yang lebih gelap menunjukkan jumlah sampel yang lebih banyak. Diagonal utama (dari kiri atas ke kanan bawah) mewakili prediksi yang benar (True Positives), sementara sel di luar diagonal utama mewakili kesalahan prediksi (False Positives dan False Negatives).\n",
        "    *   Dari heatmap SVC dan KNN, terlihat bahwa mereka kesulitan memprediksi kelas 'Severe', dengan sedikit atau tanpa True Positives untuk kelas ini. Mereka cenderung salah mengklasifikasikan sampel 'Severe' sebagai 'Mild' atau 'Moderate'.\n",
        "    *   Random Forest menunjukkan kinerja yang sedikit lebih baik dalam mengidentifikasi kelas 'Moderate', meskipun masih ada kesalahan, terutama dalam memprediksi kelas minoritas 'Severe'.\n",
        "\n",
        "Secara keseluruhan, visualisasi mengkonfirmasi temuan dari Classification Report bahwa model memiliki tantangan dalam mengklasifikasikan kelas minoritas ('Severe') dengan akurat, yang kemungkinan disebabkan oleh ketidakseimbangan kelas dalam dataset. Random Forest tampaknya menunjukkan kinerja terbaik di antara ketiga model, terutama untuk kelas 'Moderate', tetapi klasifikasi 'Severe' tetap sulit."
      ],
      "execution_count": 17,
      "outputs": [
        {
          "output_type": "display_data",
          "data": {
            "text/plain": [
              "<IPython.core.display.Markdown object>"
            ],
            "text/markdown": "## Analisis Data dan Pemodelan Klasifikasi Kesehatan\n\nAnalisis ini bertujuan untuk memprediksi tingkat masalah kesehatan (`Health_Issues`) berdasarkan berbagai faktor terkait gaya hidup dan demografi menggunakan dataset `/content/synthetic_coffee_health_10000.csv`.\n\n### Pengenalan Dataset dan Tugas\n\nDataset ini berisi informasi tentang 10.000 individu, mencakup kolom seperti usia, jenis kelamin, negara, konsumsi kopi dan kafein, jam tidur, BMI, detak jantung, tingkat stres, aktivitas fisik, pekerjaan, kebiasaan merokok, konsumsi alkohol, dan tingkat masalah kesehatan.\n\nDari eksplorasi data awal, kami menemukan bahwa kolom target `Health_Issues` bersifat kategorikal dengan tiga kategori: 'Mild', 'Moderate', dan 'Severe'. Selain itu, terdapat nilai yang hilang pada kolom ini. Karena target variabel bersifat kategorikal, tugas ini diklasifikasikan sebagai **masalah klasifikasi**.\n\n### Pra-pemrosesan Data\n\nSebelum melatih model, data perlu dipersiapkan. Langkah-langkah pra-pemrosesan meliputi:\n\n1.  **Penanganan Nilai yang Hilang:** Nilai yang hilang pada kolom target `Health_Issues` diisi (imputasi) menggunakan nilai yang paling sering muncul (modus) dari kolom tersebut.\n2.  **Pemisahan Fitur dan Target:** Kolom `Health_Issues` dipisahkan sebagai variabel target (`y`), sementara kolom lainnya (kecuali kolom ID yang tidak relevan) digunakan sebagai fitur (`X`).\n3.  **Encoding Variabel Kategorikal:** Fitur-fitur kategorikal seperti 'Gender', 'Country', 'Occupation', 'Smoking', 'Alcohol_Consumption', 'Sleep_Quality', dan 'Stress_Level' diubah menjadi format numerik menggunakan **One-Hot Encoding**. Proses ini membuat kolom biner baru untuk setiap kategori unik dalam fitur kategorikal.\n4.  **Penskalaan Fitur Numerik:** Fitur-fitur numerik seperti 'Age', 'Coffee_Intake', 'Caffeine_mg', 'Sleep_Hours', 'BMI', 'Heart_Rate', dan 'Physical_Activity_Hours' diskalakan menggunakan **StandardScaler**. Penskalaan ini memastikan bahwa fitur numerik memiliki rata-rata nol dan varians satu, mencegah fitur dengan rentang nilai yang besar mendominasi model.\n5.  **Pembuatan Pipeline Pra-pemrosesan:** Sebuah `ColumnTransformer` dibuat untuk menggabungkan langkah encoding dan penskalaan, memastikan transformasi yang benar diterapkan pada jenis kolom yang sesuai.\n\n### Pembagian Data\n\nData fitur (`X`) dan target (`y_imputed`) yang telah diproses dibagi menjadi set pelatihan (80%) dan set pengujian (20%) menggunakan fungsi `train_test_split`. Pembagian dilakukan secara stratifikasi (`stratify=y_imputed`) untuk memastikan bahwa distribusi kelas dari variabel target dipertahankan baik di set pelatihan maupun pengujian, yang penting karena adanya ketidakseimbangan kelas.\n\n### Model Klasifikasi yang Digunakan\n\nKami mengimplementasikan tiga model klasifikasi:\n\n1.  **Support Vector Classifier (SVC):** Model linier atau non-linier yang bekerja dengan menemukan hyperplane terbaik yang memisahkan kelas-kelas dalam ruang fitur.\n2.  **Random Forest Classifier:** Model ansambel yang membangun banyak pohon keputusan selama pelatihan dan menghasilkan kelas yang merupakan modus dari prediksi kelas pohon individu.\n3.  **K-Nearest Neighbors (KNN) Classifier:** Model non-parametrik yang mengklasifikasikan titik data baru berdasarkan mayoritas kelas dari 'k' tetangga terdekatnya dalam ruang fitur.\n\nSetiap model digabungkan dengan pipeline pra-pemrosesan yang dibuat sebelumnya, membentuk pipeline lengkap untuk setiap model. Ini memastikan bahwa langkah pra-pemrosesan diterapkan secara konsisten pada data sebelum data dimasukkan ke dalam model.\n\n### Pelatihan Model\n\nSetiap pipeline model (SVC, Random Forest, dan KNN) dilatih menggunakan set data pelatihan (`X_train`, `y_train`). Proses pelatihan menyesuaikan parameter internal setiap model berdasarkan pola dalam data pelatihan untuk dapat membuat prediksi pada data baru.\n\n### Evaluasi Model\n\nKinerja setiap model klasifikasi dievaluasi menggunakan metrik berikut pada set data pengujian (`X_test`, `y_test`):\n\n*   **Confusion Matrix:** Tabel yang menunjukkan jumlah prediksi benar dan salah untuk setiap kelas. Ini membantu mengidentifikasi jenis kesalahan yang dibuat model (misalnya, salah memprediksi 'Moderate' sebagai 'Mild').\n*   **Classification Report:** Menyediakan ringkasan metrik per kelas:\n    *   **Precision:** Proporsi prediksi positif yang sebenarnya benar.\n    *   **Recall:** Proporsi positif aktual yang berhasil diidentifikasi.\n    *   **F1-Score:** Rata-rata harmonis dari Precision dan Recall, berguna untuk menangani ketidakseimbangan kelas.\n    *   **Support:** Jumlah sampel aktual dalam setiap kelas di set pengujian.\n*   **Overall Accuracy:** Proporsi total prediksi yang benar.\n\nPenjelasan mendalam mengenai metrik-metrik ini telah disediakan dalam sel markdown sebelumnya.\n\n### Interpretasi Visualisasi Hasil Prediksi\n\nDua jenis visualisasi telah dibuat:\n\n1.  **Perbandingan Distribusi Kelas Aktual vs. Prediksi Model:** Plot batang ini secara visual membandingkan jumlah sampel di setiap kelas ('Mild', 'Moderate', 'Severe') antara data uji aktual dan hasil prediksi dari ketiga model. Plot ini menunjukkan seberapa baik setiap model mereplikasi distribusi kelas aktual. Kita dapat melihat bahwa kelas 'Severe' adalah minoritas yang signifikan, dan mungkin sulit bagi model untuk memprediksi kelas ini dengan tepat. Model cenderung memprediksi kelas mayoritas ('Mild') lebih sering.\n\n2.  **Heatmap Confusion Matrix:** Heatmap ini menampilkan Confusion Matrix untuk setiap model. Warna yang lebih gelap menunjukkan jumlah sampel yang lebih banyak. Diagonal utama (dari kiri atas ke kanan bawah) mewakili prediksi yang benar (True Positives), sementara sel di luar diagonal utama mewakili kesalahan prediksi (False Positives dan False Negatives).\n    *   Dari heatmap SVC dan KNN, terlihat bahwa mereka kesulitan memprediksi kelas 'Severe', dengan sedikit atau tanpa True Positives untuk kelas ini. Mereka cenderung salah mengklasifikasikan sampel 'Severe' sebagai 'Mild' atau 'Moderate'.\n    *   Random Forest menunjukkan kinerja yang sedikit lebih baik dalam mengidentifikasi kelas 'Moderate', meskipun masih ada kesalahan, terutama dalam memprediksi kelas minoritas 'Severe'.\n\nSecara keseluruhan, visualisasi mengkonfirmasi temuan dari Classification Report bahwa model memiliki tantangan dalam mengklasifikasikan kelas minoritas ('Severe') dengan akurat, yang kemungkinan disebabkan oleh ketidakseimbangan kelas dalam dataset. Random Forest tampaknya menunjukkan kinerja terbaik di antara ketiga model, terutama untuk kelas 'Moderate', tetapi klasifikasi 'Severe' tetap sulit.\n"
          },
          "metadata": {}
        }
      ]
    },
    {
      "cell_type": "markdown",
      "metadata": {
        "id": "e9f016b3"
      },
      "source": [
        "## Summary:\n",
        "\n",
        "### Data Analysis Key Findings\n",
        "\n",
        "*   Dataset yang digunakan adalah `synthetic_coffee_health_10000.csv` berisi 10.000 entri dan 16 kolom.\n",
        "*   Variabel target, 'Health_Issues', bersifat kategorikal dengan tiga kelas: 'Mild', 'Moderate', dan 'Severe', mengindikasikan ini adalah tugas klasifikasi.\n",
        "*   Kolom 'Health_Issues' memiliki nilai yang hilang dan diimputasi dengan modus ('Mild').\n",
        "*   Fitur-fitur pra-pemrosesan termasuk One-Hot Encoding untuk kolom kategorikal ('Gender', 'Country', 'Occupation', 'Smoking', 'Alcohol_Consumption', 'Sleep_Quality', 'Stress_Level') dan Standard Scaling untuk kolom numerik ('Age', 'Coffee_Intake', 'Caffeine_mg', 'Sleep_Hours', 'BMI', 'Heart_Rate', 'Physical_Activity_Hours').\n",
        "*   Data dibagi menjadi 80% untuk pelatihan dan 20% untuk pengujian secara stratifikasi untuk menjaga distribusi kelas target.\n",
        "*   Tiga model klasifikasi diimplementasikan dan dilatih: Support Vector Classifier (SVC), Random Forest Classifier (RF), dan K-Nearest Neighbors (KNN).\n",
        "*   Evaluasi menggunakan Confusion Matrix dan Classification Report menunjukkan bahwa semua model berkinerja baik pada kelas mayoritas ('Mild') tetapi memiliki kesulitan signifikan dalam mengklasifikasikan kelas minoritas ('Severe'), dengan SVC dan KNN bahkan tidak memprediksi kelas 'Severe' sama sekali. Random Forest menunjukkan kinerja terbaik di antara ketiganya, terutama dalam mengklasifikasikan kelas 'Moderate'.\n",
        "*   Visualisasi distribusi kelas menunjukkan ketidakseimbangan kelas yang parah, dengan 'Mild' menjadi kelas yang paling dominan.\n",
        "*   Heatmap Confusion Matrix secara visual mengkonfirmasi kesulitan model dalam memprediksi kelas minoritas, terutama 'Severe'.\n",
        "\n",
        "### Insights or Next Steps\n",
        "\n",
        "*   Ketidakseimbangan kelas yang signifikan pada kolom target ('Health_Issues') adalah tantangan utama. Strategi penanganan ketidakseimbangan kelas seperti oversampling minoritas (misalnya SMOTE) atau undersampling mayoritas harus dipertimbangkan di masa depan.\n",
        "*   Eksplorasi lebih lanjut terhadap hyperparameter tuning untuk setiap model, terutama Random Forest yang menunjukkan kinerja terbaik, dapat meningkatkan kinerja klasifikasi pada kelas minoritas.\n"
      ]
    }
  ]
}